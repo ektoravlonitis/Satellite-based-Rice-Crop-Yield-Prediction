{
 "cells": [
  {
   "cell_type": "markdown",
   "id": "7019e862-bd9f-4ca4-a757-8e611273a96a",
   "metadata": {},
   "source": [
    "## Accessing Sentinel-1 RTC data with the Planetary Computer STAC API\n",
    "\n",
    "The [Sentinel 1 RTC](https://planetarycomputer.microsoft.com/dataset/sentinel-1-rtc) product in this collection is a radiometrically terrain corrected product derived from the [Sentinel-1 Ground Range Detected (GRD)](https://planetarycomputer.microsoft.com/dataset/sentinel-1-grd) Level-1 products produced by the European Space Agency.\n",
    "\n",
    "### Environment setup\n",
    "\n",
    "Running this notebook requires an API key.\n",
    "\n",
    "* The [Planetary Computer Hub](https://planetarycomputer.microsoft.com/compute) is pre-configured to use your API key.\n",
    "* To use your API key locally, set the environment variable `PC_SDK_SUBSCRIPTION_KEY` or use `planetary_computer.settings.set_subscription_key(<YOUR API Key>)`\n",
    "\n",
    "See [when an account is needed](https://planetarycomputer.microsoft.com/docs/concepts/sas/#when-an-account-is-needed) for more, and [request an account](http://planetarycomputer.microsoft.com/account/request) if needed."
   ]
  },
  {
   "cell_type": "code",
   "execution_count": 1,
   "id": "a6dfb479-650b-4986-93ed-f05f0df68cca",
   "metadata": {
    "tags": []
   },
   "outputs": [],
   "source": [
    "# Supress Warnings\n",
    "import warnings\n",
    "warnings.filterwarnings('ignore')\n",
    "\n",
    "# Visualization\n",
    "import ipyleaflet\n",
    "import matplotlib.pyplot as plt\n",
    "from IPython.display import Image\n",
    "import seaborn as sns\n",
    "\n",
    "# Data Science\n",
    "import numpy as np\n",
    "import pandas as pd\n",
    "import statsmodels.api as sm\n",
    "\n",
    "# Feature Engineering\n",
    "from sklearn.model_selection import train_test_split\n",
    "\n",
    "# Machine Learning\n",
    "from sklearn.ensemble import ExtraTreesRegressor\n",
    "from sklearn.metrics import r2_score\n",
    "\n",
    "\n",
    "# Planetary Computer Tools\n",
    "import pystac\n",
    "import pystac_client\n",
    "import odc\n",
    "from pystac_client import Client\n",
    "from pystac.extensions.eo import EOExtension as eo\n",
    "from odc.stac import stac_load\n",
    "import planetary_computer as pc\n",
    "\n",
    "# Please pass your API key here\n",
    "# pc.settings.set_subscription_key('********************')\n",
    "\n",
    "# Others\n",
    "import requests\n",
    "import rich.table\n",
    "from itertools import cycle\n",
    "from tqdm import tqdm\n",
    "tqdm.pandas()\n",
    "from tqdm.notebook import tqdm_notebook\n",
    "tqdm_notebook.pandas()"
   ]
  },
  {
   "cell_type": "code",
   "execution_count": 2,
   "id": "46f64cc1-9d37-4603-afdc-39a0925f282a",
   "metadata": {
    "tags": []
   },
   "outputs": [],
   "source": [
    "import ipyleaflet\n",
    "import matplotlib.pyplot as plt\n",
    "import numpy as np\n",
    "import pystac\n",
    "import pystac_client\n",
    "import planetary_computer\n",
    "import requests\n",
    "import rich.table\n",
    "\n",
    "from IPython.display import Image"
   ]
  },
  {
   "cell_type": "code",
   "execution_count": 3,
   "id": "a44cbf17-f7c3-4702-85eb-303513ccce15",
   "metadata": {
    "tags": []
   },
   "outputs": [
    {
     "name": "stdout",
     "output_type": "stream",
     "text": [
      "   District   Latitude   Longitude  \\\n",
      "0  Chau_Phu  10.510542  105.248554   \n",
      "1  Chau_Phu  10.509150  105.265098   \n",
      "2  Chau_Phu  10.467721  105.192464   \n",
      "3  Chau_Phu  10.494453  105.241281   \n",
      "4  Chau_Phu  10.535058  105.252744   \n",
      "\n",
      "  Season(SA = Summer Autumn, WS = Winter Spring)  \\\n",
      "0                                             SA   \n",
      "1                                             SA   \n",
      "2                                             SA   \n",
      "3                                             SA   \n",
      "4                                             SA   \n",
      "\n",
      "  Rice Crop Intensity(D=Double, T=Triple) Date of Harvest  Field size (ha)  \\\n",
      "0                                       T      15-07-2022             3.40   \n",
      "1                                       T      15-07-2022             2.43   \n",
      "2                                       D      15-07-2022             1.95   \n",
      "3                                       T      15-07-2022             4.30   \n",
      "4                                       D      14-07-2022             3.30   \n",
      "\n",
      "   Rice Yield (kg/ha)  \n",
      "0                5500  \n",
      "1                6000  \n",
      "2                6400  \n",
      "3                6000  \n",
      "4                6400  \n"
     ]
    }
   ],
   "source": [
    "import pandas as pd\n",
    "\n",
    "# read the CSV file\n",
    "df = pd.read_csv('Crop_Yield_Data_challenge_2.csv')\n",
    "\n",
    "# print the contents of the CSV file\n",
    "print(df.head())"
   ]
  },
  {
   "cell_type": "markdown",
   "id": "6d8c7118-8a47-41b9-a4be-39d83f8db19a",
   "metadata": {},
   "source": [
    "### Data access\n",
    "\n",
    "The datasets hosted by the Planetary Computer are available from [Azure Blob Storage](https://docs.microsoft.com/en-us/azure/storage/blobs/). We'll use [pystac-client](https://pystac-client.readthedocs.io/) to search the Planetary Computer's [STAC API](https://planetarycomputer.microsoft.com/api/stac/v1/docs) for the subset of the data that we care about, and then we'll load the data directly from Azure Blob Storage. We'll specify a `modifier` so that we can access the data stored in the Planetary Computer's private Blob Storage Containers. See [Reading from the STAC API](https://planetarycomputer.microsoft.com/docs/quickstarts/reading-stac/) and [Using tokens for data access](https://planetarycomputer.microsoft.com/docs/concepts/sas/) for more."
   ]
  },
  {
   "cell_type": "code",
   "execution_count": 4,
   "id": "bfb5c95a-6c43-4d0f-8a86-07dc3495130d",
   "metadata": {
    "tags": []
   },
   "outputs": [],
   "source": [
    "catalog = pystac_client.Client.open(\n",
    "    \"https://planetarycomputer.microsoft.com/api/stac/v1\",\n",
    "    modifier=planetary_computer.sign_inplace,\n",
    ")"
   ]
  },
  {
   "cell_type": "markdown",
   "id": "b39546f7-f49e-4a0e-856f-919e81432922",
   "metadata": {},
   "source": [
    "### Choose an area and time of interest\n",
    "\n",
    "We'll search for assets acquired over Panama in the first week of May, 2022. You can use the [Planetary Computer Explorer](https://planetarycomputer.microsoft.com/explore?c=-79.6735%2C9.0461&z=9.91&ae=0&v=2&d=sentinel-1-rtc&s=false%3A%3A100%3A%3Atrue&m=Most+recent+-+VV%2C+VH&r=VV%2C+VH+False-color+composite) to find areas of interest."
   ]
  },
  {
   "cell_type": "code",
   "execution_count": 5,
   "id": "c44f5746-36b8-48a6-bfc3-fabab2415630",
   "metadata": {
    "tags": []
   },
   "outputs": [
    {
     "name": "stdout",
     "output_type": "stream",
     "text": [
      "Found 29 items\n",
      "2022-08-26T11:12:00.463421Z\n",
      "2022-08-25T22:46:14.709082Z\n",
      "2022-08-14T11:12:00.071377Z\n",
      "2022-08-02T11:11:59.338449Z\n",
      "2022-07-21T11:11:58.504828Z\n",
      "2022-07-09T11:11:57.770925Z\n",
      "2022-06-27T11:11:57.147850Z\n",
      "2022-06-26T22:46:10.363160Z\n",
      "2022-06-15T11:11:56.125679Z\n",
      "2022-06-03T11:11:55.667800Z\n",
      "2022-06-02T22:46:08.840031Z\n",
      "2022-05-22T11:11:54.509303Z\n",
      "2022-05-21T22:46:07.705465Z\n",
      "2022-05-10T11:11:53.723854Z\n",
      "2022-04-27T22:46:06.296981Z\n",
      "2022-04-16T11:11:52.470632Z\n",
      "2022-04-15T22:46:05.644861Z\n",
      "2022-04-04T11:11:52.234391Z\n",
      "2022-04-03T22:46:05.477503Z\n",
      "2022-03-23T11:11:52.064532Z\n",
      "2022-03-22T22:46:05.287764Z\n",
      "2022-03-11T11:11:51.691272Z\n",
      "2022-02-26T22:46:04.969244Z\n",
      "2022-02-15T11:11:51.767747Z\n",
      "2022-02-03T11:11:51.699083Z\n",
      "2022-02-02T22:46:04.929540Z\n",
      "2022-01-22T11:11:52.377922Z\n",
      "2022-01-21T22:46:05.657153Z\n",
      "2022-01-09T22:46:06.347730Z\n"
     ]
    }
   ],
   "source": [
    "# TEST EXAMPLE\n",
    "bbox = [105.248554, 10.510542, 105.248554, 10.510542]\n",
    "search = catalog.search(\n",
    "    collections=[\"sentinel-1-rtc\"], bbox=bbox, datetime=\"2022-01-01/2022-08-31\"\n",
    ")\n",
    "items = search.item_collection()\n",
    "print(f\"Found {len(items)} items\")\n",
    "item = items[0]\n",
    "# Iterate through each item and print its date\n",
    "for item in items:\n",
    "    date = item.properties[\"datetime\"]\n",
    "    print(date)\n"
   ]
  },
  {
   "cell_type": "markdown",
   "id": "78cd0967-b9f2-4c60-bdac-62fe4e8e8494",
   "metadata": {},
   "source": [
    "The `rendered_preview` asset lets us quickly visualize the data. For Seninel-1 RTC, this produces a false-color composite from a combination of the VV and VH bands."
   ]
  },
  {
   "cell_type": "code",
   "execution_count": 7,
   "id": "71257d3d-5733-417b-9b40-a947686eca9a",
   "metadata": {
    "tags": []
   },
   "outputs": [
    {
     "data": {
      "text/html": [
       "<img src=\"https://planetarycomputer.microsoft.com/api/data/v1/item/preview.png?collection=sentinel-1-rtc&item=S1A_IW_GRDH_1SDV_20220109T224553_20220109T224618_041390_04EBD3_rtc&assets=vv&assets=vh&tile_format=png&expression=0.03+%2B+log+%2810e-4+-+log+%280.05+%2F+%280.02+%2B+2+%2A+vv%29%29%29%3B0.05+%2B+exp+%280.25+%2A+%28log+%280.01+%2B+2+%2A+vv%29+%2B+log+%280.02+%2B+5+%2A+vh%29%29%29%3B1+-+log+%280.05+%2F+%280.045+-+0.9+%2A+vv%29%29&asset_as_band=True&rescale=0%2C.8000&rescale=0%2C1.000&rescale=0%2C1.000&format=png\"/>"
      ],
      "text/plain": [
       "<IPython.core.display.Image object>"
      ]
     },
     "execution_count": 7,
     "metadata": {},
     "output_type": "execute_result"
    }
   ],
   "source": [
    "Image(url=item.assets[\"rendered_preview\"].href)"
   ]
  },
  {
   "cell_type": "code",
   "execution_count": 8,
   "id": "989fba3e-4604-4c04-a896-6933154c4d82",
   "metadata": {
    "tags": []
   },
   "outputs": [],
   "source": [
    "import csv\n",
    "from datetime import datetime\n",
    "def get_vv_vh(longitude, latitude, season, date, csv_file):\n",
    "    \n",
    "    assests = ['vh','vv']\n",
    "    str_latitude = str(latitude)\n",
    "    found_start_date = False\n",
    "    if season == \"SA\":\n",
    "        with open(csv_file, 'r') as file:\n",
    "            reader = csv.DictReader(file)\n",
    "            for row in reader:\n",
    "                if (row['Latitude'] == str_latitude) & (row['Season(SA = Summer Autumn, WS = Winter Spring)'] != season):\n",
    "                    start_date = row['Date of Harvest']\n",
    "                    found_start_date = True\n",
    "                    #print(start_date)\n",
    "    \n",
    "        date_obj = datetime.strptime(date, \"%d-%m-%Y\")\n",
    "        new_date_csv = date_obj.strftime(\"%Y-%m-%d\")\n",
    "\n",
    "        if found_start_date:\n",
    "            #print(\"Found\")\n",
    "            start_date_obj = datetime.strptime(start_date, \"%d-%m-%Y\")\n",
    "            new_start_date_csv = start_date_obj.strftime(\"%Y-%m-%d\")\n",
    "            if new_start_date_csv > \"2022-04-01\":\n",
    "                #print(\"bigger\")\n",
    "                datetime1 = new_start_date_csv + \"/\" + new_date_csv\n",
    "                #print(datetime1)\n",
    "\n",
    "            else:\n",
    "                #print(\"smaller\")\n",
    "                datetime1 = \"2022-04-01\" + \"/\" + new_date_csv\n",
    "                #print(datetime1)\n",
    "\n",
    "        else:\n",
    "            #print(\"not\")\n",
    "            datetime1 = \"2022-04-01\" + \"/\" + new_date_csv\n",
    "            #print(datetime1)\n",
    "\n",
    "    \n",
    "    if season == 'WS':\n",
    "        date_obj = datetime.strptime(date, \"%d-%m-%Y\")\n",
    "        new_date_csv = date_obj.strftime(\"%Y-%m-%d\")\n",
    "        datetime1 = \"2021-11-01\" +\"/\" + new_date_csv\n",
    "        #print(datetime1)\n",
    "\n",
    "    \n",
    "    bbox = [longitude, latitude, longitude, latitude]\n",
    "    search = catalog.search(\n",
    "        collections=[\"sentinel-1-rtc\"], bbox=bbox, datetime=datetime1\n",
    "    )\n",
    "\n",
    "    items = search.item_collection()\n",
    "    #print(f\"Found {len(items)} items\")\n",
    "    item = items[1]\n",
    "    # Access the datetime for each item\n",
    "    #for item in items:\n",
    "    #   print(f\"Item ID: {item.id}, Datetime: {item.datetime}\")\n",
    "    import stackstac\n",
    "\n",
    "    ds = stackstac.stack(items[0], bounds_latlon=bbox, epsg=32630, resolution=100)\n",
    "    #ds\n",
    "\n",
    "    vv_list = []\n",
    "    vh_list = []\n",
    "    bands_of_interest = ['vh', 'vv']\n",
    "    for item in items:\n",
    "        data = stac_load([item], bands=bands_of_interest, patch_url=pc.sign, bbox=bbox).isel(time=0)\n",
    "        if (data['vh'].values[0][0] !=-32768.0 and data['vv'].values[0][0]!=-32768.0):\n",
    "            vv_list.append(np.median(data[\"vv\"].astype(\"float64\")))\n",
    "            vh_list.append(np.median(data[\"vh\"].astype(\"float64\")))\n",
    "    \n",
    "    return vv_list, vh_list"
   ]
  },
  {
   "cell_type": "code",
   "execution_count": 9,
   "id": "21344121-e1f5-4f7b-9f1e-7c1ab7ef5918",
   "metadata": {
    "tags": []
   },
   "outputs": [
    {
     "data": {
      "application/vnd.jupyter.widget-view+json": {
       "model_id": "f749d8fd216f49c1bd70cb6551070a55",
       "version_major": 2,
       "version_minor": 0
      },
      "text/plain": [
       "  0%|          | 0/557 [00:00<?, ?it/s]"
      ]
     },
     "metadata": {},
     "output_type": "display_data"
    }
   ],
   "source": [
    "new_columns = df.progress_apply(lambda x: get_vv_vh(x['Longitude'], x['Latitude'],x['Season(SA = Summer Autumn, WS = Winter Spring)'], x['Date of Harvest'], 'Crop_Yield_Data_challenge_2.csv'), axis=1)"
   ]
  },
  {
   "cell_type": "code",
   "execution_count": 10,
   "id": "9875c640-734c-4d65-863b-3034d6ebcd6c",
   "metadata": {
    "tags": []
   },
   "outputs": [
    {
     "name": "stdout",
     "output_type": "stream",
     "text": [
      "       min_vh    min_vv    max_vh    max_vv  range_vh  range_vv   mean_vh  \\\n",
      "0    0.005246  0.024129  0.059441  0.357296  0.054196  0.333167  0.026118   \n",
      "1    0.016737  0.053835  0.136669  0.448553  0.119932  0.394718  0.051274   \n",
      "2    0.010781  0.016936  0.114186  0.424133  0.103404  0.407197  0.030350   \n",
      "3    0.003393  0.027307  0.070942  0.335494  0.067549  0.308188  0.026225   \n",
      "4    0.004080  0.021431  0.089368  0.226502  0.085289  0.205071  0.028807   \n",
      "..        ...       ...       ...       ...       ...       ...       ...   \n",
      "552  0.002246  0.007758  0.092458  0.447422  0.090212  0.439664  0.031105   \n",
      "553  0.003157  0.023660  0.080506  0.255528  0.077349  0.231868  0.025837   \n",
      "554  0.002891  0.008751  0.155461  0.387613  0.152571  0.378862  0.037837   \n",
      "555  0.001930  0.019068  0.097946  0.488400  0.096017  0.469332  0.029845   \n",
      "556  0.002429  0.013906  0.196655  0.639950  0.194226  0.626043  0.042741   \n",
      "\n",
      "      mean_vv    std_vh    std_vv  ratio_vv_vh       rvi  \n",
      "0    0.132912  0.015212  0.092425     5.088838  0.266231  \n",
      "1    0.179150  0.033655  0.115343     3.493993  0.419867  \n",
      "2    0.116764  0.028909  0.120106     3.847299  0.374809  \n",
      "3    0.111655  0.019026  0.086151     4.257530  0.331808  \n",
      "4    0.114040  0.024090  0.059231     3.958783  0.362241  \n",
      "..        ...       ...       ...          ...       ...  \n",
      "552  0.126006  0.025072  0.134158     4.051010  0.352365  \n",
      "553  0.095423  0.017987  0.064118     3.693223  0.393417  \n",
      "554  0.146239  0.035396  0.120536     3.864942  0.372772  \n",
      "555  0.139716  0.024917  0.132740     4.681431  0.295375  \n",
      "556  0.165247  0.044398  0.141821     3.866288  0.372618  \n",
      "\n",
      "[557 rows x 12 columns]\n"
     ]
    },
    {
     "data": {
      "text/plain": [
       "\"\\n# Concatenate the two dataframes horizontally\\nnew_df = pd.concat([df, vh_vv_data], axis=1)\\n\\n# Save the new dataframe to a new CSV file\\nnew_df.to_csv('new.csv', index=False)\""
      ]
     },
     "execution_count": 10,
     "metadata": {},
     "output_type": "execute_result"
    }
   ],
   "source": [
    "#print(new_columns[0][0])\n",
    "\n",
    "vh = [x[0] for x in new_columns]\n",
    "vv = [x[1] for x in new_columns]\n",
    "#print(vh)\n",
    "#print(vv)\n",
    "import statistics\n",
    "import numpy as np\n",
    "\n",
    "vh_vv_data = pd.DataFrame(list(zip(vh,vv,)),columns = [\"vv_list\",\"vh_list\"])\n",
    "#print(vh_vv_data)\n",
    "#print(vh_vv_data['vv_list'][0])\n",
    "def find_attributes(dataframe):\n",
    "    min_vh = []\n",
    "    max_vh = []\n",
    "    range_vh = []\n",
    "    mean_vh = []\n",
    "    std_vh = []\n",
    "    for i in dataframe[\"vh_list\"]:\n",
    "        min_vh.append(min(i))\n",
    "        max_vh.append(max(i))\n",
    "        range_vh.append(max(i)-min(i))\n",
    "        mean_vh.append(statistics.mean(i))\n",
    "        std_vh.append(statistics.stdev(i))\n",
    "\n",
    "    \n",
    "    min_vv = []\n",
    "    max_vv = []\n",
    "    range_vv = []\n",
    "    mean_vv = []\n",
    "    std_vv = []\n",
    "    for i in dataframe[\"vv_list\"]:\n",
    "        min_vv.append(min(i))\n",
    "        max_vv.append(max(i))\n",
    "        range_vv.append(max(i)-min(i))\n",
    "        mean_vv.append(statistics.mean(i))\n",
    "        std_vv.append(statistics.stdev(i))\n",
    "    \n",
    "    ratio_vv_vh = [mean_vv[i] / mean_vh[i] for i in range(len(mean_vv))]\n",
    "\n",
    "    #ratio_vv_vh = mean_vv / mean_vh\n",
    "    rvi = [np.sqrt(1- mean_vv[i] / (mean_vv[i] + mean_vh[i])) * 4 * (mean_vh[i] / (mean_vv[i] + mean_vh[i])) for i in range(len(mean_vv))]\n",
    "    \n",
    "    \n",
    "    return min_vh, min_vv, max_vh, max_vv, range_vh, range_vv, mean_vh, mean_vv, std_vh, std_vv, ratio_vv_vh, rvi\n",
    "\n",
    "#print(find_attributes(vh_vv_data)[0])\n",
    "#list(zip(find_attributes(vh_vv_data)))\n",
    "new = pd.DataFrame({\"min_vh\": find_attributes(vh_vv_data)[0], \"min_vv\": find_attributes(vh_vv_data)[1], \n",
    "                    \"max_vh\": find_attributes(vh_vv_data)[2], \"max_vv\": find_attributes(vh_vv_data)[3],\n",
    "                   \"range_vh\": find_attributes(vh_vv_data)[4], \"range_vv\": find_attributes(vh_vv_data)[5],\n",
    "                   \"mean_vh\": find_attributes(vh_vv_data)[6], \"mean_vv\": find_attributes(vh_vv_data)[7],\n",
    "                   \"std_vh\": find_attributes(vh_vv_data)[8], \"std_vv\": find_attributes(vh_vv_data)[9],\n",
    "                   \"ratio_vv_vh\":find_attributes(vh_vv_data)[10], \"rvi\":find_attributes(vh_vv_data)[11]})\n",
    "print(new)\n",
    "new.to_csv(\"new_crop_data.csv\", index=False, header=[\"min_vh\", \"min_vv\", \"max_vh\", \"max_vv\", \"range_vh\", \"range_vv\",\n",
    "                                                    \"mean_vh\", \"mean_vv\", \"std_vh\", \"std_vv\", \"ratio_vv_vh\", \"rvi\"])\n",
    "\n",
    "\n",
    "#def find_attributes(dataframe):\n",
    "\n",
    "\n",
    "'''\n",
    "# Concatenate the two dataframes horizontally\n",
    "new_df = pd.concat([df, vh_vv_data], axis=1)\n",
    "\n",
    "# Save the new dataframe to a new CSV file\n",
    "new_df.to_csv('new.csv', index=False)'''"
   ]
  },
  {
   "cell_type": "code",
   "execution_count": null,
   "id": "a0f7d2e2-2f22-4df2-a234-b60abb2e96d3",
   "metadata": {},
   "outputs": [],
   "source": []
  }
 ],
 "metadata": {
  "kernelspec": {
   "display_name": "Python 3 (ipykernel)",
   "language": "python",
   "name": "python3"
  },
  "language_info": {
   "codemirror_mode": {
    "name": "ipython",
    "version": 3
   },
   "file_extension": ".py",
   "mimetype": "text/x-python",
   "name": "python",
   "nbconvert_exporter": "python",
   "pygments_lexer": "ipython3",
   "version": "3.11.4"
  },
  "widgets": {
   "application/vnd.jupyter.widget-state+json": {
    "state": {
     "14e5acac38754c3e9de1fb48e56bc5ad": {
      "model_module": "jupyter-leaflet",
      "model_module_version": "^0.17.0",
      "model_name": "LeafletTileLayerModel",
      "state": {
       "_model_module_version": "^0.17.0",
       "_view_module_version": "^0.17.0",
       "attribution": "&copy; <a href=\"https://www.openstreetmap.org/copyright\">OpenStreetMap</a> contributors",
       "base": true,
       "max_zoom": 19,
       "min_zoom": 1,
       "name": "OpenStreetMap.Mapnik",
       "options": [
        "attribution",
        "bounds",
        "detect_retina",
        "max_native_zoom",
        "max_zoom",
        "min_native_zoom",
        "min_zoom",
        "no_wrap",
        "tile_size",
        "tms"
       ],
       "url": "https://a.tile.openstreetmap.org/{z}/{x}/{y}.png"
      }
     },
     "1b789f8cd1f54c8885637e7ca2b54e6d": {
      "model_module": "jupyter-leaflet",
      "model_module_version": "^0.17.0",
      "model_name": "LeafletSplitMapControlModel",
      "state": {
       "_model_module_version": "^0.17.0",
       "_model_name": "LeafletSplitMapControlModel",
       "_view_module_version": "^0.17.0",
       "_view_name": "LeafletSplitMapControlView",
       "left_layer": "IPY_MODEL_ece123fa46c84b0fa8882ad47f4c5932",
       "options": [
        "position"
       ],
       "right_layer": "IPY_MODEL_b43b719b7d64402e8e8e0278250cc60e"
      }
     },
     "20d50cc84b2440e2b934a2f7f45e1e2c": {
      "model_module": "jupyter-leaflet",
      "model_module_version": "^0.17.0",
      "model_name": "LeafletMapStyleModel",
      "state": {
       "_model_module_version": "^0.17.0",
       "cursor": "move"
      }
     },
     "3755bcab846f4bde8b84b2938691b829": {
      "model_module": "@jupyter-widgets/base",
      "model_module_version": "1.2.0",
      "model_name": "LayoutModel",
      "state": {}
     },
     "58725a884e284ae192e9abc31837adf9": {
      "model_module": "jupyter-leaflet",
      "model_module_version": "^0.17.0",
      "model_name": "LeafletZoomControlModel",
      "state": {
       "_model_module_version": "^0.17.0",
       "_view_module_version": "^0.17.0",
       "options": [
        "position",
        "zoom_in_text",
        "zoom_in_title",
        "zoom_out_text",
        "zoom_out_title"
       ]
      }
     },
     "614febe830f547ec8e7543973bbf0517": {
      "model_module": "jupyter-leaflet",
      "model_module_version": "^0.17.0",
      "model_name": "LeafletMapStyleModel",
      "state": {
       "_model_module_version": "^0.17.0"
      }
     },
     "7e286d5e0c3c4cd68499e10b30842560": {
      "model_module": "jupyter-leaflet",
      "model_module_version": "^0.17.0",
      "model_name": "LeafletAttributionControlModel",
      "state": {
       "_model_module_version": "^0.17.0",
       "_view_module_version": "^0.17.0",
       "options": [
        "position",
        "prefix"
       ],
       "position": "bottomright",
       "prefix": "ipyleaflet"
      }
     },
     "b43b719b7d64402e8e8e0278250cc60e": {
      "model_module": "jupyter-leaflet",
      "model_module_version": "^0.17.0",
      "model_name": "LeafletTileLayerModel",
      "state": {
       "_model_module_version": "^0.17.0",
       "_view_module_version": "^0.17.0",
       "options": [
        "attribution",
        "bounds",
        "detect_retina",
        "max_native_zoom",
        "max_zoom",
        "min_native_zoom",
        "min_zoom",
        "no_wrap",
        "tile_size",
        "tms"
       ],
       "url": "https://planetarycomputer.microsoft.com/api/data/v1/item/tiles/WebMercatorQuad/{z}/{x}/{y}@1x.png?collection=sentinel-1-rtc&item=S1A_IW_GRDH_1SDV_20220518T054334_20220518T054359_043261_052A9D_rtc&assets=vv&assets=vh&expression=0.03+%2B+log+%2810e-4+-+log+%280.05+%2F+%280.02+%2B+2+%2A+vv%29%29%29%2C0.05+%2B+exp+%280.25+%2A+%28log+%280.01+%2B+2+%2A+vv%29+%2B+log+%280.02+%2B+5+%2A+vh%29%29%29%2C1+-+log+%280.05+%2F+%280.045+-+0.9+%2A+vv%29%29&rescale=0%2C.8000&rescale=0%2C1.000&rescale=0%2C1.000"
      }
     },
     "b928c8399cca4d4997b754333aca187f": {
      "model_module": "jupyter-leaflet",
      "model_module_version": "^0.17.0",
      "model_name": "LeafletMapStyleModel",
      "state": {
       "_model_module_version": "^0.17.0"
      }
     },
     "da49b289184b4faf9d2c93de779e4e49": {
      "model_module": "@jupyter-widgets/base",
      "model_module_version": "1.2.0",
      "model_name": "LayoutModel",
      "state": {}
     },
     "e113542ba8c74e9e8b86a9c7e6ec83ea": {
      "model_module": "@jupyter-widgets/controls",
      "model_module_version": "1.5.0",
      "model_name": "VBoxModel",
      "state": {
       "layout": "IPY_MODEL_3755bcab846f4bde8b84b2938691b829"
      }
     },
     "e49ead9250d741faa6ed100033db1dc2": {
      "model_module": "jupyter-leaflet",
      "model_module_version": "^0.17.0",
      "model_name": "LeafletMapModel",
      "state": {
       "_model_module_version": "^0.17.0",
       "_view_module_version": "^0.17.0",
       "bottom": 1474592,
       "center": [
        47.05,
        7.1
       ],
       "controls": [
        "IPY_MODEL_fb39f1ed0d654bc29db0a72945c3c921",
        "IPY_MODEL_58725a884e284ae192e9abc31837adf9",
        "IPY_MODEL_7e286d5e0c3c4cd68499e10b30842560",
        "IPY_MODEL_1b789f8cd1f54c8885637e7ca2b54e6d"
       ],
       "default_style": "IPY_MODEL_614febe830f547ec8e7543973bbf0517",
       "dragging_style": "IPY_MODEL_20d50cc84b2440e2b934a2f7f45e1e2c",
       "east": 7.160940170288087,
       "fullscreen": false,
       "interpolation": "bilinear",
       "layers": [
        "IPY_MODEL_14e5acac38754c3e9de1fb48e56bc5ad"
       ],
       "layout": "IPY_MODEL_da49b289184b4faf9d2c93de779e4e49",
       "left": 2179163,
       "modisdate": "2022-08-14",
       "north": 47.06170298810154,
       "options": [
        "bounce_at_zoom_limits",
        "box_zoom",
        "center",
        "close_popup_on_click",
        "double_click_zoom",
        "dragging",
        "fullscreen",
        "inertia",
        "inertia_deceleration",
        "inertia_max_speed",
        "interpolation",
        "keyboard",
        "keyboard_pan_offset",
        "keyboard_zoom_offset",
        "max_zoom",
        "min_zoom",
        "prefer_canvas",
        "scroll_wheel_zoom",
        "tap",
        "tap_tolerance",
        "touch_zoom",
        "world_copy_jump",
        "zoom",
        "zoom_animation_threshold",
        "zoom_delta",
        "zoom_snap"
       ],
       "prefer_canvas": false,
       "right": 2180583,
       "scroll_wheel_zoom": true,
       "south": 47.03831035673278,
       "style": "IPY_MODEL_b928c8399cca4d4997b754333aca187f",
       "top": 1474192,
       "west": 7.039060592651368,
       "window_url": "https://pcc-staging.westeurope.cloudapp.azure.com/compute/user/taugspurger@microsoft.com/lab/tree/pc-examples-2/datasets/sentinel-2-l2a/sentinel-2-l2a-example.ipynb",
       "zoom": 14
      }
     },
     "ece123fa46c84b0fa8882ad47f4c5932": {
      "model_module": "jupyter-leaflet",
      "model_module_version": "^0.17.0",
      "model_name": "LeafletTileLayerModel",
      "state": {
       "_model_module_version": "^0.17.0",
       "_view_module_version": "^0.17.0",
       "options": [
        "attribution",
        "bounds",
        "detect_retina",
        "max_native_zoom",
        "max_zoom",
        "min_native_zoom",
        "min_zoom",
        "no_wrap",
        "tile_size",
        "tms"
       ],
       "url": "https://planetarycomputer.microsoft.com/api/data/v1/item/tiles/WebMercatorQuad/{z}/{x}/{y}@1x.png?collection=sentinel-1-grd&item=S1A_IW_GRDH_1SDV_20220518T054334_20220518T054359_043261_052A9D&assets=vv&assets=vh&expression=vv%2Cvh%2Cvv%2Fvh&rescale=0%2C500&rescale=0%2C300&rescale=0%2C7"
      }
     },
     "fb39f1ed0d654bc29db0a72945c3c921": {
      "model_module": "jupyter-leaflet",
      "model_module_version": "^0.17.0",
      "model_name": "LeafletFullScreenControlModel",
      "state": {
       "_model_module_version": "^0.17.0",
       "_view_module_version": "^0.17.0",
       "options": [
        "position"
       ]
      }
     }
    },
    "version_major": 2,
    "version_minor": 0
   }
  }
 },
 "nbformat": 4,
 "nbformat_minor": 5
}
