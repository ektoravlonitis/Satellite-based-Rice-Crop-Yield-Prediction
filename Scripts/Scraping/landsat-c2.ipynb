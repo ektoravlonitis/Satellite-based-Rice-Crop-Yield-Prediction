{
 "cells": [
  {
   "cell_type": "markdown",
   "id": "0d97ffaf-9b10-423c-a505-e0b19949844e",
   "metadata": {
    "tags": []
   },
   "source": [
    "## Accessing Landsat Collection 2 Level-1 and Level-2 data with the Planetary Computer STAC API\n",
    "\n",
    "The Planetary Computer's [Landsat](https://landsat.gsfc.nasa.gov/) dataset represents a global archive of [Level-1](https://www.usgs.gov/landsat-missions/landsat-collection-2-level-1-data) and [Level-2](https://www.usgs.gov/landsat-missions/landsat-collection-2-level-2-science-products) data from from [Landsat Collection 2](https://www.usgs.gov/core-science-systems/nli/landsat/landsat-collection-2). The dataset is grouped into two STAC Collections:\n",
    "- `landsat-c2-l2` for Level-2 data\n",
    "- `landsat-c2-l1` for Level-1 data\n",
    "\n",
    "This notebook demonstrates the use of the Planetary Computer STAC API to query for Landsat data. We will start with an example using Level-2 data and follow with a similar example using Level-1 data.\n",
    "\n",
    "### Environment setup\n",
    "\n",
    "This notebook works with or without an API key, but you will be given more permissive access to the data with an API key. \n",
    "- The [Planetary Computer Hub](https://planetarycomputer.microsoft.com/compute) is pre-configured to use your API key.\n",
    "- To use your API key locally, set the environment variable `PC_SDK_SUBSCRIPTION_KEY` or use `pc.settings.set_subscription_key(<YOUR API Key>)`."
   ]
  },
  {
   "cell_type": "code",
   "execution_count": 1,
   "id": "69651204-45d1-41a3-a13f-99c60ede6cd0",
   "metadata": {},
   "outputs": [],
   "source": [
    "import pystac_client\n",
    "import planetary_computer\n",
    "import odc.stac\n",
    "import matplotlib.pyplot as plt\n",
    "import pandas as pd\n",
    "import csv\n",
    "from datetime import datetime\n",
    "from pystac.extensions.eo import EOExtension as eo\n",
    "import numpy as np"
   ]
  },
  {
   "cell_type": "markdown",
   "id": "4e154dc2-ae73-4ca5-9918-7153aea89919",
   "metadata": {},
   "source": [
    "### Data access\n",
    "\n",
    "The datasets hosted by the Planetary Computer are available from [Azure Blob Storage](https://docs.microsoft.com/en-us/azure/storage/blobs/). We'll use [pystac-client](https://pystac-client.readthedocs.io/) to search the Planetary Computer's [STAC API](https://planetarycomputer.microsoft.com/api/stac/v1/docs) for the subset of the data that we care about, and then we'll load the data directly from Azure Blob Storage. We'll specify a `modifier` so that we can access the data stored in the Planetary Computer's private Blob Storage Containers. See [Reading from the STAC API](https://planetarycomputer.microsoft.com/docs/quickstarts/reading-stac/) and [Using tokens for data access](https://planetarycomputer.microsoft.com/docs/concepts/sas/) for more."
   ]
  },
  {
   "cell_type": "code",
   "execution_count": 2,
   "id": "bfe8e3d9-035c-4928-8752-e0329d87a7b0",
   "metadata": {},
   "outputs": [],
   "source": [
    "catalog = pystac_client.Client.open(\n",
    "    \"https://planetarycomputer.microsoft.com/api/stac/v1\",\n",
    "    modifier=planetary_computer.sign_inplace,\n",
    ")"
   ]
  },
  {
   "cell_type": "markdown",
   "id": "198b54e7",
   "metadata": {},
   "source": [
    "### Choose an area and time of interest\n",
    "\n",
    "This area is in Redmond, WA, USA, near Microsoft's main campus. We'll search all of 2021, limiting the results to those less than 10% cloudy."
   ]
  },
  {
   "cell_type": "code",
   "execution_count": 3,
   "id": "528b445b-d842-4ce2-aeb4-3b00d326c5f1",
   "metadata": {
    "tags": []
   },
   "outputs": [],
   "source": [
    "time = '2022-01-01/2022-08-31'"
   ]
  },
  {
   "cell_type": "code",
   "execution_count": 4,
   "id": "94cda0ea-38fe-43db-b1e6-4a46f6186d4a",
   "metadata": {},
   "outputs": [],
   "source": [
    "bbox = [105.248554, 10.510542, 105.248554, 10.510542]"
   ]
  },
  {
   "cell_type": "code",
   "execution_count": 5,
   "id": "d1a949e6",
   "metadata": {},
   "outputs": [],
   "source": [
    "bbox_of_interest = [-122.2751, 47.5469, -121.9613, 47.7458]\n",
    "time_of_interest = \"2021-01-01/2021-12-31\""
   ]
  },
  {
   "cell_type": "code",
   "execution_count": 6,
   "id": "a56a65b0",
   "metadata": {},
   "outputs": [
    {
     "name": "stdout",
     "output_type": "stream",
     "text": [
      "Returned 4 Items\n",
      "2022-02-27T03:20:28.774876Z\n",
      "2022-02-19T03:20:27.771564Z\n",
      "2022-01-18T03:20:37.922626Z\n",
      "2022-01-02T03:20:40.283448Z\n"
     ]
    }
   ],
   "source": [
    "search = catalog.search(\n",
    "    collections=[\"landsat-c2-l2\"],\n",
    "    bbox=bbox,\n",
    "    datetime=time,\n",
    "    query={\"eo:cloud_cover\": {\"lt\": 10}},\n",
    ")\n",
    "\n",
    "items = search.item_collection()\n",
    "print(f\"Returned {len(items)} Items\")\n",
    "\n",
    "for item in items:\n",
    "    date = item.properties['datetime']\n",
    "    print(date)"
   ]
  },
  {
   "cell_type": "markdown",
   "id": "f0a8210f",
   "metadata": {},
   "source": [
    "Let's find the least cloudy of the bunch."
   ]
  },
  {
   "cell_type": "code",
   "execution_count": 7,
   "id": "6204ef0c",
   "metadata": {},
   "outputs": [
    {
     "name": "stdout",
     "output_type": "stream",
     "text": [
      "Choosing LC08_L2SP_126053_20220102_02_T1 from 2022-01-02 with 1.43% cloud cover\n"
     ]
    }
   ],
   "source": [
    "selected_item = min(items, key=lambda item: eo.ext(item).cloud_cover)\n",
    "\n",
    "print(\n",
    "    f\"Choosing {selected_item.id} from {selected_item.datetime.date()}\"\n",
    "    + f\" with {selected_item.properties['eo:cloud_cover']}% cloud cover\"\n",
    ")"
   ]
  },
  {
   "cell_type": "markdown",
   "id": "e2a89114",
   "metadata": {},
   "source": [
    "### Available assets\n",
    "\n",
    "In addition to numerous metadata assets, each Electro-Optical (EO) band is a separate asset."
   ]
  },
  {
   "cell_type": "code",
   "execution_count": 8,
   "id": "272bdccc",
   "metadata": {},
   "outputs": [
    {
     "name": "stdout",
     "output_type": "stream",
     "text": [
      "              qa: Surface Temperature Quality Assessment Band\n",
      "             ang: Angle Coefficients File\n",
      "             red: Red Band\n",
      "            blue: Blue Band\n",
      "            drad: Downwelled Radiance Band\n",
      "            emis: Emissivity Band\n",
      "            emsd: Emissivity Standard Deviation Band\n",
      "            trad: Thermal Radiance Band\n",
      "            urad: Upwelled Radiance Band\n",
      "           atran: Atmospheric Transmittance Band\n",
      "           cdist: Cloud Distance Band\n",
      "           green: Green Band\n",
      "           nir08: Near Infrared Band 0.8\n",
      "          lwir11: Surface Temperature Band\n",
      "          swir16: Short-wave Infrared Band 1.6\n",
      "          swir22: Short-wave Infrared Band 2.2\n",
      "         coastal: Coastal/Aerosol Band\n",
      "         mtl.txt: Product Metadata File (txt)\n",
      "         mtl.xml: Product Metadata File (xml)\n",
      "        mtl.json: Product Metadata File (json)\n",
      "        qa_pixel: Pixel Quality Assessment Band\n",
      "       qa_radsat: Radiometric Saturation and Terrain Occlusion Quality Assessment Band\n",
      "      qa_aerosol: Aerosol Quality Assessment Band\n",
      "        tilejson: TileJSON with default rendering\n",
      "rendered_preview: Rendered preview\n"
     ]
    }
   ],
   "source": [
    "max_key_length = len(max(selected_item.assets, key=len))\n",
    "for key, asset in selected_item.assets.items():\n",
    "    print(f\"{key.rjust(max_key_length)}: {asset.title}\")"
   ]
  },
  {
   "cell_type": "markdown",
   "id": "2001fcf4",
   "metadata": {},
   "source": [
    "### Render a natural color image of the AOI\n",
    "\n",
    "We'll start by loading the red, green, and blue bands for our area of interest into an xarray dataset using [`odc-stac`](https://pypi.org/project/odc-stac/). We will also load the nir08 band for use in computing an NDVI value in a later example. Note that we pass the `sign` function from the [planetary-computer](https://github.com/microsoft/planetary-computer-sdk-for-python) package so that `odc-stac` can supply the required [Shared Access Signature](https://docs.microsoft.com/en-us/azure/storage/common/storage-sas-overview) tokens that are necessary to download the asset data."
   ]
  },
  {
   "cell_type": "code",
   "execution_count": 9,
   "id": "9849f2e0",
   "metadata": {},
   "outputs": [
    {
     "data": {
      "text/html": [
       "<div><svg style=\"position: absolute; width: 0; height: 0; overflow: hidden\">\n",
       "<defs>\n",
       "<symbol id=\"icon-database\" viewBox=\"0 0 32 32\">\n",
       "<path d=\"M16 0c-8.837 0-16 2.239-16 5v4c0 2.761 7.163 5 16 5s16-2.239 16-5v-4c0-2.761-7.163-5-16-5z\"></path>\n",
       "<path d=\"M16 17c-8.837 0-16-2.239-16-5v6c0 2.761 7.163 5 16 5s16-2.239 16-5v-6c0 2.761-7.163 5-16 5z\"></path>\n",
       "<path d=\"M16 26c-8.837 0-16-2.239-16-5v6c0 2.761 7.163 5 16 5s16-2.239 16-5v-6c0 2.761-7.163 5-16 5z\"></path>\n",
       "</symbol>\n",
       "<symbol id=\"icon-file-text2\" viewBox=\"0 0 32 32\">\n",
       "<path d=\"M28.681 7.159c-0.694-0.947-1.662-2.053-2.724-3.116s-2.169-2.030-3.116-2.724c-1.612-1.182-2.393-1.319-2.841-1.319h-15.5c-1.378 0-2.5 1.121-2.5 2.5v27c0 1.378 1.122 2.5 2.5 2.5h23c1.378 0 2.5-1.122 2.5-2.5v-19.5c0-0.448-0.137-1.23-1.319-2.841zM24.543 5.457c0.959 0.959 1.712 1.825 2.268 2.543h-4.811v-4.811c0.718 0.556 1.584 1.309 2.543 2.268zM28 29.5c0 0.271-0.229 0.5-0.5 0.5h-23c-0.271 0-0.5-0.229-0.5-0.5v-27c0-0.271 0.229-0.5 0.5-0.5 0 0 15.499-0 15.5 0v7c0 0.552 0.448 1 1 1h7v19.5z\"></path>\n",
       "<path d=\"M23 26h-14c-0.552 0-1-0.448-1-1s0.448-1 1-1h14c0.552 0 1 0.448 1 1s-0.448 1-1 1z\"></path>\n",
       "<path d=\"M23 22h-14c-0.552 0-1-0.448-1-1s0.448-1 1-1h14c0.552 0 1 0.448 1 1s-0.448 1-1 1z\"></path>\n",
       "<path d=\"M23 18h-14c-0.552 0-1-0.448-1-1s0.448-1 1-1h14c0.552 0 1 0.448 1 1s-0.448 1-1 1z\"></path>\n",
       "</symbol>\n",
       "</defs>\n",
       "</svg>\n",
       "<style>/* CSS stylesheet for displaying xarray objects in jupyterlab.\n",
       " *\n",
       " */\n",
       "\n",
       ":root {\n",
       "  --xr-font-color0: var(--jp-content-font-color0, rgba(0, 0, 0, 1));\n",
       "  --xr-font-color2: var(--jp-content-font-color2, rgba(0, 0, 0, 0.54));\n",
       "  --xr-font-color3: var(--jp-content-font-color3, rgba(0, 0, 0, 0.38));\n",
       "  --xr-border-color: var(--jp-border-color2, #e0e0e0);\n",
       "  --xr-disabled-color: var(--jp-layout-color3, #bdbdbd);\n",
       "  --xr-background-color: var(--jp-layout-color0, white);\n",
       "  --xr-background-color-row-even: var(--jp-layout-color1, white);\n",
       "  --xr-background-color-row-odd: var(--jp-layout-color2, #eeeeee);\n",
       "}\n",
       "\n",
       "html[theme=dark],\n",
       "body[data-theme=dark],\n",
       "body.vscode-dark {\n",
       "  --xr-font-color0: rgba(255, 255, 255, 1);\n",
       "  --xr-font-color2: rgba(255, 255, 255, 0.54);\n",
       "  --xr-font-color3: rgba(255, 255, 255, 0.38);\n",
       "  --xr-border-color: #1F1F1F;\n",
       "  --xr-disabled-color: #515151;\n",
       "  --xr-background-color: #111111;\n",
       "  --xr-background-color-row-even: #111111;\n",
       "  --xr-background-color-row-odd: #313131;\n",
       "}\n",
       "\n",
       ".xr-wrap {\n",
       "  display: block !important;\n",
       "  min-width: 300px;\n",
       "  max-width: 700px;\n",
       "}\n",
       "\n",
       ".xr-text-repr-fallback {\n",
       "  /* fallback to plain text repr when CSS is not injected (untrusted notebook) */\n",
       "  display: none;\n",
       "}\n",
       "\n",
       ".xr-header {\n",
       "  padding-top: 6px;\n",
       "  padding-bottom: 6px;\n",
       "  margin-bottom: 4px;\n",
       "  border-bottom: solid 1px var(--xr-border-color);\n",
       "}\n",
       "\n",
       ".xr-header > div,\n",
       ".xr-header > ul {\n",
       "  display: inline;\n",
       "  margin-top: 0;\n",
       "  margin-bottom: 0;\n",
       "}\n",
       "\n",
       ".xr-obj-type,\n",
       ".xr-array-name {\n",
       "  margin-left: 2px;\n",
       "  margin-right: 10px;\n",
       "}\n",
       "\n",
       ".xr-obj-type {\n",
       "  color: var(--xr-font-color2);\n",
       "}\n",
       "\n",
       ".xr-sections {\n",
       "  padding-left: 0 !important;\n",
       "  display: grid;\n",
       "  grid-template-columns: 150px auto auto 1fr 20px 20px;\n",
       "}\n",
       "\n",
       ".xr-section-item {\n",
       "  display: contents;\n",
       "}\n",
       "\n",
       ".xr-section-item input {\n",
       "  display: none;\n",
       "}\n",
       "\n",
       ".xr-section-item input + label {\n",
       "  color: var(--xr-disabled-color);\n",
       "}\n",
       "\n",
       ".xr-section-item input:enabled + label {\n",
       "  cursor: pointer;\n",
       "  color: var(--xr-font-color2);\n",
       "}\n",
       "\n",
       ".xr-section-item input:enabled + label:hover {\n",
       "  color: var(--xr-font-color0);\n",
       "}\n",
       "\n",
       ".xr-section-summary {\n",
       "  grid-column: 1;\n",
       "  color: var(--xr-font-color2);\n",
       "  font-weight: 500;\n",
       "}\n",
       "\n",
       ".xr-section-summary > span {\n",
       "  display: inline-block;\n",
       "  padding-left: 0.5em;\n",
       "}\n",
       "\n",
       ".xr-section-summary-in:disabled + label {\n",
       "  color: var(--xr-font-color2);\n",
       "}\n",
       "\n",
       ".xr-section-summary-in + label:before {\n",
       "  display: inline-block;\n",
       "  content: '►';\n",
       "  font-size: 11px;\n",
       "  width: 15px;\n",
       "  text-align: center;\n",
       "}\n",
       "\n",
       ".xr-section-summary-in:disabled + label:before {\n",
       "  color: var(--xr-disabled-color);\n",
       "}\n",
       "\n",
       ".xr-section-summary-in:checked + label:before {\n",
       "  content: '▼';\n",
       "}\n",
       "\n",
       ".xr-section-summary-in:checked + label > span {\n",
       "  display: none;\n",
       "}\n",
       "\n",
       ".xr-section-summary,\n",
       ".xr-section-inline-details {\n",
       "  padding-top: 4px;\n",
       "  padding-bottom: 4px;\n",
       "}\n",
       "\n",
       ".xr-section-inline-details {\n",
       "  grid-column: 2 / -1;\n",
       "}\n",
       "\n",
       ".xr-section-details {\n",
       "  display: none;\n",
       "  grid-column: 1 / -1;\n",
       "  margin-bottom: 5px;\n",
       "}\n",
       "\n",
       ".xr-section-summary-in:checked ~ .xr-section-details {\n",
       "  display: contents;\n",
       "}\n",
       "\n",
       ".xr-array-wrap {\n",
       "  grid-column: 1 / -1;\n",
       "  display: grid;\n",
       "  grid-template-columns: 20px auto;\n",
       "}\n",
       "\n",
       ".xr-array-wrap > label {\n",
       "  grid-column: 1;\n",
       "  vertical-align: top;\n",
       "}\n",
       "\n",
       ".xr-preview {\n",
       "  color: var(--xr-font-color3);\n",
       "}\n",
       "\n",
       ".xr-array-preview,\n",
       ".xr-array-data {\n",
       "  padding: 0 5px !important;\n",
       "  grid-column: 2;\n",
       "}\n",
       "\n",
       ".xr-array-data,\n",
       ".xr-array-in:checked ~ .xr-array-preview {\n",
       "  display: none;\n",
       "}\n",
       "\n",
       ".xr-array-in:checked ~ .xr-array-data,\n",
       ".xr-array-preview {\n",
       "  display: inline-block;\n",
       "}\n",
       "\n",
       ".xr-dim-list {\n",
       "  display: inline-block !important;\n",
       "  list-style: none;\n",
       "  padding: 0 !important;\n",
       "  margin: 0;\n",
       "}\n",
       "\n",
       ".xr-dim-list li {\n",
       "  display: inline-block;\n",
       "  padding: 0;\n",
       "  margin: 0;\n",
       "}\n",
       "\n",
       ".xr-dim-list:before {\n",
       "  content: '(';\n",
       "}\n",
       "\n",
       ".xr-dim-list:after {\n",
       "  content: ')';\n",
       "}\n",
       "\n",
       ".xr-dim-list li:not(:last-child):after {\n",
       "  content: ',';\n",
       "  padding-right: 5px;\n",
       "}\n",
       "\n",
       ".xr-has-index {\n",
       "  font-weight: bold;\n",
       "}\n",
       "\n",
       ".xr-var-list,\n",
       ".xr-var-item {\n",
       "  display: contents;\n",
       "}\n",
       "\n",
       ".xr-var-item > div,\n",
       ".xr-var-item label,\n",
       ".xr-var-item > .xr-var-name span {\n",
       "  background-color: var(--xr-background-color-row-even);\n",
       "  margin-bottom: 0;\n",
       "}\n",
       "\n",
       ".xr-var-item > .xr-var-name:hover span {\n",
       "  padding-right: 5px;\n",
       "}\n",
       "\n",
       ".xr-var-list > li:nth-child(odd) > div,\n",
       ".xr-var-list > li:nth-child(odd) > label,\n",
       ".xr-var-list > li:nth-child(odd) > .xr-var-name span {\n",
       "  background-color: var(--xr-background-color-row-odd);\n",
       "}\n",
       "\n",
       ".xr-var-name {\n",
       "  grid-column: 1;\n",
       "}\n",
       "\n",
       ".xr-var-dims {\n",
       "  grid-column: 2;\n",
       "}\n",
       "\n",
       ".xr-var-dtype {\n",
       "  grid-column: 3;\n",
       "  text-align: right;\n",
       "  color: var(--xr-font-color2);\n",
       "}\n",
       "\n",
       ".xr-var-preview {\n",
       "  grid-column: 4;\n",
       "}\n",
       "\n",
       ".xr-index-preview {\n",
       "  grid-column: 2 / 5;\n",
       "  color: var(--xr-font-color2);\n",
       "}\n",
       "\n",
       ".xr-var-name,\n",
       ".xr-var-dims,\n",
       ".xr-var-dtype,\n",
       ".xr-preview,\n",
       ".xr-attrs dt {\n",
       "  white-space: nowrap;\n",
       "  overflow: hidden;\n",
       "  text-overflow: ellipsis;\n",
       "  padding-right: 10px;\n",
       "}\n",
       "\n",
       ".xr-var-name:hover,\n",
       ".xr-var-dims:hover,\n",
       ".xr-var-dtype:hover,\n",
       ".xr-attrs dt:hover {\n",
       "  overflow: visible;\n",
       "  width: auto;\n",
       "  z-index: 1;\n",
       "}\n",
       "\n",
       ".xr-var-attrs,\n",
       ".xr-var-data,\n",
       ".xr-index-data {\n",
       "  display: none;\n",
       "  background-color: var(--xr-background-color) !important;\n",
       "  padding-bottom: 5px !important;\n",
       "}\n",
       "\n",
       ".xr-var-attrs-in:checked ~ .xr-var-attrs,\n",
       ".xr-var-data-in:checked ~ .xr-var-data,\n",
       ".xr-index-data-in:checked ~ .xr-index-data {\n",
       "  display: block;\n",
       "}\n",
       "\n",
       ".xr-var-data > table {\n",
       "  float: right;\n",
       "}\n",
       "\n",
       ".xr-var-name span,\n",
       ".xr-var-data,\n",
       ".xr-index-name div,\n",
       ".xr-index-data,\n",
       ".xr-attrs {\n",
       "  padding-left: 25px !important;\n",
       "}\n",
       "\n",
       ".xr-attrs,\n",
       ".xr-var-attrs,\n",
       ".xr-var-data,\n",
       ".xr-index-data {\n",
       "  grid-column: 1 / -1;\n",
       "}\n",
       "\n",
       "dl.xr-attrs {\n",
       "  padding: 0;\n",
       "  margin: 0;\n",
       "  display: grid;\n",
       "  grid-template-columns: 125px auto;\n",
       "}\n",
       "\n",
       ".xr-attrs dt,\n",
       ".xr-attrs dd {\n",
       "  padding: 0;\n",
       "  margin: 0;\n",
       "  float: left;\n",
       "  padding-right: 10px;\n",
       "  width: auto;\n",
       "}\n",
       "\n",
       ".xr-attrs dt {\n",
       "  font-weight: normal;\n",
       "  grid-column: 1;\n",
       "}\n",
       "\n",
       ".xr-attrs dt:hover span {\n",
       "  display: inline-block;\n",
       "  background: var(--xr-background-color);\n",
       "  padding-right: 10px;\n",
       "}\n",
       "\n",
       ".xr-attrs dd {\n",
       "  grid-column: 2;\n",
       "  white-space: pre-wrap;\n",
       "  word-break: break-all;\n",
       "}\n",
       "\n",
       ".xr-icon-database,\n",
       ".xr-icon-file-text2,\n",
       ".xr-no-icon {\n",
       "  display: inline-block;\n",
       "  vertical-align: middle;\n",
       "  width: 1em;\n",
       "  height: 1.5em !important;\n",
       "  stroke-width: 0;\n",
       "  stroke: currentColor;\n",
       "  fill: currentColor;\n",
       "}\n",
       "</style><pre class='xr-text-repr-fallback'>&lt;xarray.Dataset&gt;\n",
       "Dimensions:      (y: 1, x: 1)\n",
       "Coordinates:\n",
       "  * y            (y) float64 1.162e+06\n",
       "  * x            (x) float64 5.272e+05\n",
       "    spatial_ref  int32 32648\n",
       "    time         datetime64[ns] 2022-01-02T03:20:40.283448\n",
       "Data variables:\n",
       "    nir08        (y, x) uint16 12103\n",
       "    red          (y, x) uint16 10332\n",
       "    green        (y, x) uint16 9986\n",
       "    blue         (y, x) uint16 9143\n",
       "    qa_pixel     (y, x) uint16 21824\n",
       "    lwir11       (y, x) uint16 45670</pre><div class='xr-wrap' style='display:none'><div class='xr-header'><div class='xr-obj-type'>xarray.Dataset</div></div><ul class='xr-sections'><li class='xr-section-item'><input id='section-261795ae-fb17-40e5-953d-e8a6537736c5' class='xr-section-summary-in' type='checkbox' disabled ><label for='section-261795ae-fb17-40e5-953d-e8a6537736c5' class='xr-section-summary'  title='Expand/collapse section'>Dimensions:</label><div class='xr-section-inline-details'><ul class='xr-dim-list'><li><span class='xr-has-index'>y</span>: 1</li><li><span class='xr-has-index'>x</span>: 1</li></ul></div><div class='xr-section-details'></div></li><li class='xr-section-item'><input id='section-9a8309fd-0270-4cd2-b45f-8bfc905299c9' class='xr-section-summary-in' type='checkbox'  checked><label for='section-9a8309fd-0270-4cd2-b45f-8bfc905299c9' class='xr-section-summary' >Coordinates: <span>(4)</span></label><div class='xr-section-inline-details'></div><div class='xr-section-details'><ul class='xr-var-list'><li class='xr-var-item'><div class='xr-var-name'><span class='xr-has-index'>y</span></div><div class='xr-var-dims'>(y)</div><div class='xr-var-dtype'>float64</div><div class='xr-var-preview xr-preview'>1.162e+06</div><input id='attrs-4a5a46a6-ca9d-4105-a9a3-21ed47d44eb4' class='xr-var-attrs-in' type='checkbox' ><label for='attrs-4a5a46a6-ca9d-4105-a9a3-21ed47d44eb4' title='Show/Hide attributes'><svg class='icon xr-icon-file-text2'><use xlink:href='#icon-file-text2'></use></svg></label><input id='data-91b82bec-526a-4b12-82dc-d1556fc79515' class='xr-var-data-in' type='checkbox'><label for='data-91b82bec-526a-4b12-82dc-d1556fc79515' title='Show/Hide data repr'><svg class='icon xr-icon-database'><use xlink:href='#icon-database'></use></svg></label><div class='xr-var-attrs'><dl class='xr-attrs'><dt><span>units :</span></dt><dd>metre</dd><dt><span>resolution :</span></dt><dd>-30.0</dd><dt><span>crs :</span></dt><dd>EPSG:32648</dd></dl></div><div class='xr-var-data'><pre>array([1161885.])</pre></div></li><li class='xr-var-item'><div class='xr-var-name'><span class='xr-has-index'>x</span></div><div class='xr-var-dims'>(x)</div><div class='xr-var-dtype'>float64</div><div class='xr-var-preview xr-preview'>5.272e+05</div><input id='attrs-a21306c9-006f-4e6c-8bbf-b61292955c41' class='xr-var-attrs-in' type='checkbox' ><label for='attrs-a21306c9-006f-4e6c-8bbf-b61292955c41' title='Show/Hide attributes'><svg class='icon xr-icon-file-text2'><use xlink:href='#icon-file-text2'></use></svg></label><input id='data-d4cb31c8-9386-472b-9957-89ca48aef8ba' class='xr-var-data-in' type='checkbox'><label for='data-d4cb31c8-9386-472b-9957-89ca48aef8ba' title='Show/Hide data repr'><svg class='icon xr-icon-database'><use xlink:href='#icon-database'></use></svg></label><div class='xr-var-attrs'><dl class='xr-attrs'><dt><span>units :</span></dt><dd>metre</dd><dt><span>resolution :</span></dt><dd>30.0</dd><dt><span>crs :</span></dt><dd>EPSG:32648</dd></dl></div><div class='xr-var-data'><pre>array([527205.])</pre></div></li><li class='xr-var-item'><div class='xr-var-name'><span>spatial_ref</span></div><div class='xr-var-dims'>()</div><div class='xr-var-dtype'>int32</div><div class='xr-var-preview xr-preview'>32648</div><input id='attrs-da8a6b5f-bafa-4950-9364-4fc89125581a' class='xr-var-attrs-in' type='checkbox' ><label for='attrs-da8a6b5f-bafa-4950-9364-4fc89125581a' title='Show/Hide attributes'><svg class='icon xr-icon-file-text2'><use xlink:href='#icon-file-text2'></use></svg></label><input id='data-0af26d16-e9f0-45c8-bec5-cad3e3205975' class='xr-var-data-in' type='checkbox'><label for='data-0af26d16-e9f0-45c8-bec5-cad3e3205975' title='Show/Hide data repr'><svg class='icon xr-icon-database'><use xlink:href='#icon-database'></use></svg></label><div class='xr-var-attrs'><dl class='xr-attrs'><dt><span>spatial_ref :</span></dt><dd>PROJCRS[&quot;WGS 84 / UTM zone 48N&quot;,BASEGEOGCRS[&quot;WGS 84&quot;,ENSEMBLE[&quot;World Geodetic System 1984 ensemble&quot;,MEMBER[&quot;World Geodetic System 1984 (Transit)&quot;],MEMBER[&quot;World Geodetic System 1984 (G730)&quot;],MEMBER[&quot;World Geodetic System 1984 (G873)&quot;],MEMBER[&quot;World Geodetic System 1984 (G1150)&quot;],MEMBER[&quot;World Geodetic System 1984 (G1674)&quot;],MEMBER[&quot;World Geodetic System 1984 (G1762)&quot;],MEMBER[&quot;World Geodetic System 1984 (G2139)&quot;],ELLIPSOID[&quot;WGS 84&quot;,6378137,298.257223563,LENGTHUNIT[&quot;metre&quot;,1]],ENSEMBLEACCURACY[2.0]],PRIMEM[&quot;Greenwich&quot;,0,ANGLEUNIT[&quot;degree&quot;,0.0174532925199433]],ID[&quot;EPSG&quot;,4326]],CONVERSION[&quot;UTM zone 48N&quot;,METHOD[&quot;Transverse Mercator&quot;,ID[&quot;EPSG&quot;,9807]],PARAMETER[&quot;Latitude of natural origin&quot;,0,ANGLEUNIT[&quot;degree&quot;,0.0174532925199433],ID[&quot;EPSG&quot;,8801]],PARAMETER[&quot;Longitude of natural origin&quot;,105,ANGLEUNIT[&quot;degree&quot;,0.0174532925199433],ID[&quot;EPSG&quot;,8802]],PARAMETER[&quot;Scale factor at natural origin&quot;,0.9996,SCALEUNIT[&quot;unity&quot;,1],ID[&quot;EPSG&quot;,8805]],PARAMETER[&quot;False easting&quot;,500000,LENGTHUNIT[&quot;metre&quot;,1],ID[&quot;EPSG&quot;,8806]],PARAMETER[&quot;False northing&quot;,0,LENGTHUNIT[&quot;metre&quot;,1],ID[&quot;EPSG&quot;,8807]]],CS[Cartesian,2],AXIS[&quot;(E)&quot;,east,ORDER[1],LENGTHUNIT[&quot;metre&quot;,1]],AXIS[&quot;(N)&quot;,north,ORDER[2],LENGTHUNIT[&quot;metre&quot;,1]],USAGE[SCOPE[&quot;Engineering survey, topographic mapping.&quot;],AREA[&quot;Between 102°E and 108°E, northern hemisphere between equator and 84°N, onshore and offshore. Cambodia. China. Indonesia. Laos. Malaysia - West Malaysia. Mongolia. Russian Federation. Singapore. Thailand. Vietnam.&quot;],BBOX[0,102,84,108]],ID[&quot;EPSG&quot;,32648]]</dd><dt><span>crs_wkt :</span></dt><dd>PROJCRS[&quot;WGS 84 / UTM zone 48N&quot;,BASEGEOGCRS[&quot;WGS 84&quot;,ENSEMBLE[&quot;World Geodetic System 1984 ensemble&quot;,MEMBER[&quot;World Geodetic System 1984 (Transit)&quot;],MEMBER[&quot;World Geodetic System 1984 (G730)&quot;],MEMBER[&quot;World Geodetic System 1984 (G873)&quot;],MEMBER[&quot;World Geodetic System 1984 (G1150)&quot;],MEMBER[&quot;World Geodetic System 1984 (G1674)&quot;],MEMBER[&quot;World Geodetic System 1984 (G1762)&quot;],MEMBER[&quot;World Geodetic System 1984 (G2139)&quot;],ELLIPSOID[&quot;WGS 84&quot;,6378137,298.257223563,LENGTHUNIT[&quot;metre&quot;,1]],ENSEMBLEACCURACY[2.0]],PRIMEM[&quot;Greenwich&quot;,0,ANGLEUNIT[&quot;degree&quot;,0.0174532925199433]],ID[&quot;EPSG&quot;,4326]],CONVERSION[&quot;UTM zone 48N&quot;,METHOD[&quot;Transverse Mercator&quot;,ID[&quot;EPSG&quot;,9807]],PARAMETER[&quot;Latitude of natural origin&quot;,0,ANGLEUNIT[&quot;degree&quot;,0.0174532925199433],ID[&quot;EPSG&quot;,8801]],PARAMETER[&quot;Longitude of natural origin&quot;,105,ANGLEUNIT[&quot;degree&quot;,0.0174532925199433],ID[&quot;EPSG&quot;,8802]],PARAMETER[&quot;Scale factor at natural origin&quot;,0.9996,SCALEUNIT[&quot;unity&quot;,1],ID[&quot;EPSG&quot;,8805]],PARAMETER[&quot;False easting&quot;,500000,LENGTHUNIT[&quot;metre&quot;,1],ID[&quot;EPSG&quot;,8806]],PARAMETER[&quot;False northing&quot;,0,LENGTHUNIT[&quot;metre&quot;,1],ID[&quot;EPSG&quot;,8807]]],CS[Cartesian,2],AXIS[&quot;(E)&quot;,east,ORDER[1],LENGTHUNIT[&quot;metre&quot;,1]],AXIS[&quot;(N)&quot;,north,ORDER[2],LENGTHUNIT[&quot;metre&quot;,1]],USAGE[SCOPE[&quot;Engineering survey, topographic mapping.&quot;],AREA[&quot;Between 102°E and 108°E, northern hemisphere between equator and 84°N, onshore and offshore. Cambodia. China. Indonesia. Laos. Malaysia - West Malaysia. Mongolia. Russian Federation. Singapore. Thailand. Vietnam.&quot;],BBOX[0,102,84,108]],ID[&quot;EPSG&quot;,32648]]</dd><dt><span>semi_major_axis :</span></dt><dd>6378137.0</dd><dt><span>semi_minor_axis :</span></dt><dd>6356752.314245179</dd><dt><span>inverse_flattening :</span></dt><dd>298.257223563</dd><dt><span>reference_ellipsoid_name :</span></dt><dd>WGS 84</dd><dt><span>longitude_of_prime_meridian :</span></dt><dd>0.0</dd><dt><span>prime_meridian_name :</span></dt><dd>Greenwich</dd><dt><span>geographic_crs_name :</span></dt><dd>WGS 84</dd><dt><span>horizontal_datum_name :</span></dt><dd>World Geodetic System 1984 ensemble</dd><dt><span>projected_crs_name :</span></dt><dd>WGS 84 / UTM zone 48N</dd><dt><span>grid_mapping_name :</span></dt><dd>transverse_mercator</dd><dt><span>latitude_of_projection_origin :</span></dt><dd>0.0</dd><dt><span>longitude_of_central_meridian :</span></dt><dd>105.0</dd><dt><span>false_easting :</span></dt><dd>500000.0</dd><dt><span>false_northing :</span></dt><dd>0.0</dd><dt><span>scale_factor_at_central_meridian :</span></dt><dd>0.9996</dd></dl></div><div class='xr-var-data'><pre>array(32648, dtype=int32)</pre></div></li><li class='xr-var-item'><div class='xr-var-name'><span>time</span></div><div class='xr-var-dims'>()</div><div class='xr-var-dtype'>datetime64[ns]</div><div class='xr-var-preview xr-preview'>2022-01-02T03:20:40.283448</div><input id='attrs-aefec80a-5c8d-4a0f-a366-2f3475b9272c' class='xr-var-attrs-in' type='checkbox' disabled><label for='attrs-aefec80a-5c8d-4a0f-a366-2f3475b9272c' title='Show/Hide attributes'><svg class='icon xr-icon-file-text2'><use xlink:href='#icon-file-text2'></use></svg></label><input id='data-921e51f3-d059-43b5-b7a8-fa45b111f2e5' class='xr-var-data-in' type='checkbox'><label for='data-921e51f3-d059-43b5-b7a8-fa45b111f2e5' title='Show/Hide data repr'><svg class='icon xr-icon-database'><use xlink:href='#icon-database'></use></svg></label><div class='xr-var-attrs'><dl class='xr-attrs'></dl></div><div class='xr-var-data'><pre>array(&#x27;2022-01-02T03:20:40.283448000&#x27;, dtype=&#x27;datetime64[ns]&#x27;)</pre></div></li></ul></div></li><li class='xr-section-item'><input id='section-b2d35a40-8ec6-4356-ba88-0227bb11e050' class='xr-section-summary-in' type='checkbox'  checked><label for='section-b2d35a40-8ec6-4356-ba88-0227bb11e050' class='xr-section-summary' >Data variables: <span>(6)</span></label><div class='xr-section-inline-details'></div><div class='xr-section-details'><ul class='xr-var-list'><li class='xr-var-item'><div class='xr-var-name'><span>nir08</span></div><div class='xr-var-dims'>(y, x)</div><div class='xr-var-dtype'>uint16</div><div class='xr-var-preview xr-preview'>12103</div><input id='attrs-729e3770-3d57-4ff4-a8b3-fa74bef448d6' class='xr-var-attrs-in' type='checkbox' ><label for='attrs-729e3770-3d57-4ff4-a8b3-fa74bef448d6' title='Show/Hide attributes'><svg class='icon xr-icon-file-text2'><use xlink:href='#icon-file-text2'></use></svg></label><input id='data-b5c23b36-fc22-4b1b-a0b9-f96ef1705584' class='xr-var-data-in' type='checkbox'><label for='data-b5c23b36-fc22-4b1b-a0b9-f96ef1705584' title='Show/Hide data repr'><svg class='icon xr-icon-database'><use xlink:href='#icon-database'></use></svg></label><div class='xr-var-attrs'><dl class='xr-attrs'><dt><span>nodata :</span></dt><dd>0</dd></dl></div><div class='xr-var-data'><pre>array([[12103]], dtype=uint16)</pre></div></li><li class='xr-var-item'><div class='xr-var-name'><span>red</span></div><div class='xr-var-dims'>(y, x)</div><div class='xr-var-dtype'>uint16</div><div class='xr-var-preview xr-preview'>10332</div><input id='attrs-e3aae40c-861e-40a9-b13c-793aa7c7e6a6' class='xr-var-attrs-in' type='checkbox' ><label for='attrs-e3aae40c-861e-40a9-b13c-793aa7c7e6a6' title='Show/Hide attributes'><svg class='icon xr-icon-file-text2'><use xlink:href='#icon-file-text2'></use></svg></label><input id='data-5a99b621-62e9-4af8-a88b-575b4c8ec8ed' class='xr-var-data-in' type='checkbox'><label for='data-5a99b621-62e9-4af8-a88b-575b4c8ec8ed' title='Show/Hide data repr'><svg class='icon xr-icon-database'><use xlink:href='#icon-database'></use></svg></label><div class='xr-var-attrs'><dl class='xr-attrs'><dt><span>nodata :</span></dt><dd>0</dd></dl></div><div class='xr-var-data'><pre>array([[10332]], dtype=uint16)</pre></div></li><li class='xr-var-item'><div class='xr-var-name'><span>green</span></div><div class='xr-var-dims'>(y, x)</div><div class='xr-var-dtype'>uint16</div><div class='xr-var-preview xr-preview'>9986</div><input id='attrs-a0ef2b29-eb3c-4879-9d36-8f63698e6f1d' class='xr-var-attrs-in' type='checkbox' ><label for='attrs-a0ef2b29-eb3c-4879-9d36-8f63698e6f1d' title='Show/Hide attributes'><svg class='icon xr-icon-file-text2'><use xlink:href='#icon-file-text2'></use></svg></label><input id='data-a59b8719-b62f-4b79-92aa-6b592fde5eb3' class='xr-var-data-in' type='checkbox'><label for='data-a59b8719-b62f-4b79-92aa-6b592fde5eb3' title='Show/Hide data repr'><svg class='icon xr-icon-database'><use xlink:href='#icon-database'></use></svg></label><div class='xr-var-attrs'><dl class='xr-attrs'><dt><span>nodata :</span></dt><dd>0</dd></dl></div><div class='xr-var-data'><pre>array([[9986]], dtype=uint16)</pre></div></li><li class='xr-var-item'><div class='xr-var-name'><span>blue</span></div><div class='xr-var-dims'>(y, x)</div><div class='xr-var-dtype'>uint16</div><div class='xr-var-preview xr-preview'>9143</div><input id='attrs-a4ddac69-4421-46ce-bdca-287ee084fdd2' class='xr-var-attrs-in' type='checkbox' ><label for='attrs-a4ddac69-4421-46ce-bdca-287ee084fdd2' title='Show/Hide attributes'><svg class='icon xr-icon-file-text2'><use xlink:href='#icon-file-text2'></use></svg></label><input id='data-85871d13-e684-4b4f-b974-f9a0ab3cbcfa' class='xr-var-data-in' type='checkbox'><label for='data-85871d13-e684-4b4f-b974-f9a0ab3cbcfa' title='Show/Hide data repr'><svg class='icon xr-icon-database'><use xlink:href='#icon-database'></use></svg></label><div class='xr-var-attrs'><dl class='xr-attrs'><dt><span>nodata :</span></dt><dd>0</dd></dl></div><div class='xr-var-data'><pre>array([[9143]], dtype=uint16)</pre></div></li><li class='xr-var-item'><div class='xr-var-name'><span>qa_pixel</span></div><div class='xr-var-dims'>(y, x)</div><div class='xr-var-dtype'>uint16</div><div class='xr-var-preview xr-preview'>21824</div><input id='attrs-af25a658-0f81-41ac-bd89-7b0fd026f508' class='xr-var-attrs-in' type='checkbox' ><label for='attrs-af25a658-0f81-41ac-bd89-7b0fd026f508' title='Show/Hide attributes'><svg class='icon xr-icon-file-text2'><use xlink:href='#icon-file-text2'></use></svg></label><input id='data-120d36d7-240e-4f2b-931f-f5b6f2369874' class='xr-var-data-in' type='checkbox'><label for='data-120d36d7-240e-4f2b-931f-f5b6f2369874' title='Show/Hide data repr'><svg class='icon xr-icon-database'><use xlink:href='#icon-database'></use></svg></label><div class='xr-var-attrs'><dl class='xr-attrs'><dt><span>nodata :</span></dt><dd>1</dd></dl></div><div class='xr-var-data'><pre>array([[21824]], dtype=uint16)</pre></div></li><li class='xr-var-item'><div class='xr-var-name'><span>lwir11</span></div><div class='xr-var-dims'>(y, x)</div><div class='xr-var-dtype'>uint16</div><div class='xr-var-preview xr-preview'>45670</div><input id='attrs-54b9a98f-8c49-4b55-9996-d7295df9c60c' class='xr-var-attrs-in' type='checkbox' ><label for='attrs-54b9a98f-8c49-4b55-9996-d7295df9c60c' title='Show/Hide attributes'><svg class='icon xr-icon-file-text2'><use xlink:href='#icon-file-text2'></use></svg></label><input id='data-bb32b4ce-45f4-4819-b663-d4799a2afd4b' class='xr-var-data-in' type='checkbox'><label for='data-bb32b4ce-45f4-4819-b663-d4799a2afd4b' title='Show/Hide data repr'><svg class='icon xr-icon-database'><use xlink:href='#icon-database'></use></svg></label><div class='xr-var-attrs'><dl class='xr-attrs'><dt><span>nodata :</span></dt><dd>0</dd></dl></div><div class='xr-var-data'><pre>array([[45670]], dtype=uint16)</pre></div></li></ul></div></li><li class='xr-section-item'><input id='section-421740dd-9866-46a7-9e15-f8c1b291880a' class='xr-section-summary-in' type='checkbox'  ><label for='section-421740dd-9866-46a7-9e15-f8c1b291880a' class='xr-section-summary' >Indexes: <span>(2)</span></label><div class='xr-section-inline-details'></div><div class='xr-section-details'><ul class='xr-var-list'><li class='xr-var-item'><div class='xr-index-name'><div>y</div></div><div class='xr-index-preview'>PandasIndex</div><div></div><input id='index-9ca97d5e-2e4f-405f-97ba-d66ba22f6f96' class='xr-index-data-in' type='checkbox'/><label for='index-9ca97d5e-2e4f-405f-97ba-d66ba22f6f96' title='Show/Hide index repr'><svg class='icon xr-icon-database'><use xlink:href='#icon-database'></use></svg></label><div class='xr-index-data'><pre>PandasIndex(Index([1161885.0], dtype=&#x27;float64&#x27;, name=&#x27;y&#x27;))</pre></div></li><li class='xr-var-item'><div class='xr-index-name'><div>x</div></div><div class='xr-index-preview'>PandasIndex</div><div></div><input id='index-601fd1ed-e643-40d9-bdce-d78184285e53' class='xr-index-data-in' type='checkbox'/><label for='index-601fd1ed-e643-40d9-bdce-d78184285e53' title='Show/Hide index repr'><svg class='icon xr-icon-database'><use xlink:href='#icon-database'></use></svg></label><div class='xr-index-data'><pre>PandasIndex(Index([527205.0], dtype=&#x27;float64&#x27;, name=&#x27;x&#x27;))</pre></div></li></ul></div></li><li class='xr-section-item'><input id='section-367158b3-a160-48ce-ab51-7e239a9664d1' class='xr-section-summary-in' type='checkbox' disabled ><label for='section-367158b3-a160-48ce-ab51-7e239a9664d1' class='xr-section-summary'  title='Expand/collapse section'>Attributes: <span>(0)</span></label><div class='xr-section-inline-details'></div><div class='xr-section-details'><dl class='xr-attrs'></dl></div></li></ul></div></div>"
      ],
      "text/plain": [
       "<xarray.Dataset>\n",
       "Dimensions:      (y: 1, x: 1)\n",
       "Coordinates:\n",
       "  * y            (y) float64 1.162e+06\n",
       "  * x            (x) float64 5.272e+05\n",
       "    spatial_ref  int32 32648\n",
       "    time         datetime64[ns] 2022-01-02T03:20:40.283448\n",
       "Data variables:\n",
       "    nir08        (y, x) uint16 12103\n",
       "    red          (y, x) uint16 10332\n",
       "    green        (y, x) uint16 9986\n",
       "    blue         (y, x) uint16 9143\n",
       "    qa_pixel     (y, x) uint16 21824\n",
       "    lwir11       (y, x) uint16 45670"
      ]
     },
     "execution_count": 9,
     "metadata": {},
     "output_type": "execute_result"
    }
   ],
   "source": [
    "bands_of_interest = [\"nir08\", \"red\", \"green\", \"blue\", \"qa_pixel\", \"lwir11\"]\n",
    "data = odc.stac.stac_load(\n",
    "    [selected_item], bands=bands_of_interest, bbox=bbox\n",
    ").isel(time=0)\n",
    "data"
   ]
  },
  {
   "cell_type": "markdown",
   "id": "e0b24f78",
   "metadata": {},
   "source": [
    "Now we'll convert our xarray Dataset to a DataArray and plot the RGB image. We set `robust=True` in `imshow` to avoid manual computation of the color limits (vmin and vmax) that is necessary for data not scaled to between 0-1 while also eliminating extreme values that can cause a washed out image."
   ]
  },
  {
   "cell_type": "code",
   "execution_count": 10,
   "id": "a34ede13-2150-49db-bd2f-4f8be9be0df3",
   "metadata": {
    "tags": []
   },
   "outputs": [],
   "source": [
    "from tqdm import tqdm\n",
    "tqdm.pandas()\n",
    "from tqdm.notebook import tqdm_notebook\n",
    "tqdm_notebook.pandas()"
   ]
  },
  {
   "cell_type": "code",
   "execution_count": 11,
   "id": "3e3922de-8c17-406d-89c3-a6577be56abb",
   "metadata": {
    "tags": []
   },
   "outputs": [],
   "source": [
    "df = pd.read_csv('Crop_Yield_Data_challenge_2.csv')"
   ]
  },
  {
   "cell_type": "code",
   "execution_count": 12,
   "id": "7ed4b331-d9f7-48e8-9482-2b170b2b1098",
   "metadata": {
    "tags": []
   },
   "outputs": [
    {
     "name": "stdout",
     "output_type": "stream",
     "text": [
      "0    10332\n",
      "Name: red, dtype: uint16\n"
     ]
    }
   ],
   "source": [
    "import xarray as xr\n",
    "import pandas as pd\n",
    "\n",
    "# Load the data into an xarray Dataset\n",
    "data = odc.stac.stac_load(\n",
    "    [selected_item],\n",
    "    bands=bands_of_interest,\n",
    "    bbox=bbox\n",
    ")\n",
    "\n",
    "# Create an empty dataframe to hold the merged data\n",
    "merged_df = pd.DataFrame()\n",
    "dataframes = {}\n",
    "\n",
    "# Concatenate the dataframes horizontally\n",
    "for var_name in data.data_vars:\n",
    "    var_data = data[var_name].to_dataframe().reset_index()\n",
    "    var_data = var_data.loc[:, ~var_data.columns.duplicated()]\n",
    "    merged_df = pd.concat([merged_df, var_data], axis=1)\n",
    "    dataframes[var_name] = var_data\n",
    "\n",
    "# Save the merged dataframe to a CSV file\n",
    "merged_df.to_csv('merged_data.csv', index=False)\n",
    "\n",
    "# Access the dataframes\n",
    "red_df = dataframes['red']\n",
    "green_df = dataframes['green']\n",
    "blue_df = dataframes['blue']\n",
    "nir_df = dataframes['nir08']\n",
    "qa_pixel_df = dataframes['qa_pixel']\n",
    "lwir11_df = dataframes['lwir11']\n",
    "\n",
    "# Save each dataframe as a CSV file\n",
    "red_df.to_csv('red_data.csv', index=False)\n",
    "green_df.to_csv('green_data.csv', index=False)\n",
    "blue_df.to_csv('blue_data.csv', index=False)\n",
    "nir_df.to_csv('nir_data.csv', index=False)\n",
    "qa_pixel_df.to_csv('qa_pixel_data.csv', index=False)\n",
    "lwir11_df.to_csv('lwir11_data.csv', index=False)\n",
    "print(red_df['red'])"
   ]
  },
  {
   "cell_type": "code",
   "execution_count": null,
   "id": "ac8d71fe-f393-4460-bcda-24bd01b1764b",
   "metadata": {},
   "outputs": [],
   "source": []
  },
  {
   "cell_type": "code",
   "execution_count": 13,
   "id": "f033d8f9-ea1f-42e2-9583-7334a2a87e4f",
   "metadata": {
    "tags": []
   },
   "outputs": [],
   "source": [
    "def get_ndvi(longitude, latitude, season, date, csv_file):\n",
    "    #time = '2022-01-01/2022-08-31'\n",
    "    str_latitude = str(latitude)\n",
    "    found_start_date = False\n",
    "    if season == \"SA\":\n",
    "        with open(csv_file, 'r') as file:\n",
    "            reader = csv.DictReader(file)\n",
    "            for row in reader:\n",
    "                if (row['Latitude'] == str_latitude) & (row['Season(SA = Summer Autumn, WS = Winter Spring)'] != season):\n",
    "                    start_date = row['Date of Harvest']\n",
    "                    found_start_date = True\n",
    "                    #print(start_date)\n",
    "\n",
    "        date_obj = datetime.strptime(date, \"%d-%m-%Y\")\n",
    "        new_date_csv = date_obj.strftime(\"%Y-%m-%d\")\n",
    "\n",
    "        if found_start_date:\n",
    "            #print(\"Found\")\n",
    "            start_date_obj = datetime.strptime(start_date, \"%d-%m-%Y\")\n",
    "            new_start_date_csv = start_date_obj.strftime(\"%Y-%m-%d\")\n",
    "            if new_start_date_csv > \"2022-04-01\":\n",
    "                #print(\"bigger\")\n",
    "                datetime1 = new_start_date_csv + \"/\" + new_date_csv\n",
    "                #print(datetime1)\n",
    "\n",
    "            else:\n",
    "                #print(\"smaller\")\n",
    "                datetime1 = \"2022-04-01\" + \"/\" + new_date_csv\n",
    "                #print(datetime1)\n",
    "\n",
    "        else:\n",
    "            #print(\"not\")\n",
    "            datetime1 = \"2022-04-01\" + \"/\" + new_date_csv\n",
    "            #print(datetime1)\n",
    "\n",
    "\n",
    "    if season == 'WS':\n",
    "        date_obj = datetime.strptime(date, \"%d-%m-%Y\")\n",
    "        new_date_csv = date_obj.strftime(\"%Y-%m-%d\")\n",
    "        datetime1 = \"2021-11-01\" +\"/\" + new_date_csv\n",
    "        #print(datetime1)\n",
    "    bbox = [longitude, latitude, longitude, latitude]\n",
    "    search = catalog.search(\n",
    "        collections=[\"landsat-c2-l2\"],\n",
    "        bbox=bbox,\n",
    "        datetime=time,\n",
    "        query={\"eo:cloud_cover\": {\"lt\": 10}}, # 10% cloud coverage\n",
    "    )\n",
    "\n",
    "    items = search.item_collection()\n",
    "    if items:\n",
    "        selected_item = min(items, key=lambda item: eo.ext(item).cloud_cover)\n",
    "        #selected_item = min(items, key=lambda item: eo.ext(item).cloud_cover)\n",
    "        bands_of_interest = [\"nir08\", \"red\", \"green\", \"blue\", \"qa_pixel\", \"lwir11\"]\n",
    "        data = odc.stac.stac_load([selected_item], bands=bands_of_interest, bbox=bbox).isel(time=0)\n",
    "\n",
    "        #df = pd.read_csv('Crop_Yield_Data_challenge_2.csv')\n",
    "        dataframes = {}\n",
    "        \n",
    "        # Concatenate the dataframes horizontally\n",
    "        for var_name in data.data_vars:\n",
    "            var_data = data[var_name].to_dataframe().reset_index()\n",
    "            var_data = var_data.loc[:, ~var_data.columns.duplicated()]\n",
    "            dataframes[var_name] = var_data\n",
    "        red_df = dataframes['red']\n",
    "        green_df = dataframes['green']\n",
    "        blue_df = dataframes['blue']\n",
    "        nir_df = dataframes['nir08']\n",
    "        qa_pixel_df = dataframes['qa_pixel']\n",
    "        lwir11_df = dataframes['lwir11']\n",
    "        \n",
    "        return red_df['red'], nir_df['nir08']\n",
    "    else:\n",
    "        selected_item = \"N/A\"\n",
    "        return np.nan, np.nan\n",
    "\n",
    "    '''\n",
    "    selected_item = min(items, key=lambda item: eo.ext(item).cloud_cover)\n",
    "    bands_of_interest = [\"nir08\", \"red\", \"green\", \"blue\", \"qa_pixel\", \"lwir11\"]\n",
    "    data = odc.stac.stac_load([selected_item], bands=bands_of_interest, bbox=bbox).isel(time=0)\n",
    "    \n",
    "    #df = pd.read_csv('Crop_Yield_Data_challenge_2.csv')\n",
    "    dataframes = {}\n",
    "\n",
    "    # Concatenate the dataframes horizontally\n",
    "    for var_name in data.data_vars:\n",
    "        var_data = data[var_name].to_dataframe().reset_index()\n",
    "        var_data = var_data.loc[:, ~var_data.columns.duplicated()]\n",
    "        dataframes[var_name] = var_data\n",
    "    red_df = dataframes['red']\n",
    "    green_df = dataframes['green']\n",
    "    blue_df = dataframes['blue']\n",
    "    nir_df = dataframes['nir08']\n",
    "    qa_pixel_df = dataframes['qa_pixel']\n",
    "    lwir11_df = dataframes['lwir11']\n",
    "    '''\n",
    "    \n",
    "    "
   ]
  },
  {
   "cell_type": "code",
   "execution_count": 14,
   "id": "58b707e7-8bd9-4d3d-bf78-2c9fc5df55c1",
   "metadata": {
    "tags": []
   },
   "outputs": [
    {
     "data": {
      "application/vnd.jupyter.widget-view+json": {
       "model_id": "a3acb6f79dd84f03abf5769722b9a6ac",
       "version_major": 2,
       "version_minor": 0
      },
      "text/plain": [
       "  0%|          | 0/557 [00:00<?, ?it/s]"
      ]
     },
     "metadata": {},
     "output_type": "display_data"
    }
   ],
   "source": [
    "new_columns = df.progress_apply(lambda x: get_ndvi(x['Longitude'], x['Latitude'],x['Season(SA = Summer Autumn, WS = Winter Spring)'], x['Date of Harvest'], 'Crop_Yield_Data_challenge_2.csv'), axis=1)\n"
   ]
  },
  {
   "cell_type": "code",
   "execution_count": 15,
   "id": "77bf35b6-eac0-45b2-8b69-b8e053b2429d",
   "metadata": {},
   "outputs": [
    {
     "name": "stdout",
     "output_type": "stream",
     "text": [
      "0      ([10332], [12103])\n",
      "1       ([9857], [10104])\n",
      "2       ([9102], [13276])\n",
      "3       ([8458], [10473])\n",
      "4       ([9031], [21966])\n",
      "              ...        \n",
      "552    ([10677], [12468])\n",
      "553     ([9476], [11019])\n",
      "554     ([8903], [10145])\n",
      "555     ([8844], [15231])\n",
      "556     ([9218], [12030])\n",
      "Length: 557, dtype: object\n"
     ]
    }
   ],
   "source": [
    "print(new_columns)"
   ]
  },
  {
   "cell_type": "code",
   "execution_count": 16,
   "id": "fe55ccaf-de2d-4a4e-91fe-8e605f2dfd52",
   "metadata": {
    "tags": []
   },
   "outputs": [
    {
     "name": "stdout",
     "output_type": "stream",
     "text": [
      "12103\n"
     ]
    }
   ],
   "source": [
    "print(new_columns[0][1][0])"
   ]
  },
  {
   "cell_type": "code",
   "execution_count": 22,
   "id": "803e420f-aeb3-4264-8c09-fcef49b150b3",
   "metadata": {
    "tags": []
   },
   "outputs": [
    {
     "name": "stdout",
     "output_type": "stream",
     "text": [
      "         ndvi\n",
      "0    0.078939\n",
      "1    0.012374\n",
      "2    0.186522\n",
      "3    0.106439\n",
      "4    0.417298\n",
      "..        ...\n",
      "552  0.077382\n",
      "553  0.075287\n",
      "554  0.065204\n",
      "555  0.265296\n",
      "556  0.132342\n",
      "\n",
      "[557 rows x 1 columns]\n"
     ]
    },
    {
     "name": "stderr",
     "output_type": "stream",
     "text": [
      "/tmp/ipykernel_615/2100125459.py:11: RuntimeWarning: overflow encountered in ushort_scalars\n",
      "  ndvi = (nir - red) / (nir + red)\n"
     ]
    }
   ],
   "source": [
    "ndvi_values = []  # Create an empty list to store NDVI values\n",
    "\n",
    "for i in new_columns:\n",
    "    if isinstance(i[0], float) or isinstance(i[1], float):\n",
    "        ndvi = np.nan\n",
    "    elif i[0].isnull().any() or i[1].isnull().any():\n",
    "        ndvi = np.nan\n",
    "    else:\n",
    "        red = i[0][0]\n",
    "        nir = i[1][0]\n",
    "        ndvi = (nir - red) / (nir + red)\n",
    "    \n",
    "    ndvi_values.append(ndvi)  # Append the calculated NDVI value to the list\n",
    "\n",
    "new = pd.DataFrame({'ndvi': ndvi_values})\n",
    "print(new)\n"
   ]
  },
  {
   "cell_type": "code",
   "execution_count": 24,
   "id": "b83182ba-77fd-48ec-b51c-b306623ca6da",
   "metadata": {
    "tags": []
   },
   "outputs": [],
   "source": [
    "new.to_csv(\"new_crop_data.csv\", index=False, header=[\"ndvi\"])\n"
   ]
  },
  {
   "cell_type": "code",
   "execution_count": null,
   "id": "ec818cf6-a6fa-48b8-88c8-41105e871993",
   "metadata": {
    "tags": []
   },
   "outputs": [],
   "source": [
    "\n",
    "'''\n",
    "red = data[\"red\"].astype(\"float\")\n",
    "nir = data[\"nir08\"].astype(\"float\")\n",
    "ndvi = (nir - red) / (nir + red)\n",
    "'''"
   ]
  },
  {
   "cell_type": "code",
   "execution_count": null,
   "id": "14686fde",
   "metadata": {},
   "outputs": [],
   "source": [
    "fig, ax = plt.subplots(figsize=(10, 10))\n",
    "\n",
    "data[[\"red\", \"green\", \"blue\"]].to_array().plot.imshow(robust=True, ax=ax)\n",
    "ax.set_title(\"Natural Color, Redmond, WA\");"
   ]
  },
  {
   "cell_type": "markdown",
   "id": "a9275433",
   "metadata": {},
   "source": [
    "### Render an NDVI image of the AOI\n",
    "\n",
    "Landsat has several bands, and with them we can go beyond rendering natural color imagery; for example, the following code computes a [Normalized Difference Vegetation Index (NDVI)](https://en.wikipedia.org/wiki/Normalized_difference_vegetation_index) using the near-infrared and red bands. Note that we convert the red and near infrared bands to a data type that can contain negative values; if this is not done, negative NDVI values will be incorrectly stored."
   ]
  },
  {
   "cell_type": "code",
   "execution_count": null,
   "id": "22a7806b-1b0d-4c62-b735-74bbd5f144e7",
   "metadata": {},
   "outputs": [],
   "source": [
    "data[[\"red\", \"green\", \"blue\"]].to_array().plot.imshow(robust=True, ax=ax)\n",
    "ax.set_title(\"Natural Color, Redmond, WA\");\n",
    "red = data[\"red\"].astype(\"float\")\n",
    "nir = data[\"nir08\"].astype(\"float\")\n",
    "ndvi = (nir - red) / (nir + red)\n",
    "\n",
    "fig, ax = plt.subplots(figsize=(14, 10))\n",
    "ndvi.plot.imshow(ax=ax, cmap=\"viridis\")\n",
    "ax.set_title(\"NDVI, Redmond, WA\");"
   ]
  },
  {
   "cell_type": "markdown",
   "id": "e3d4704e-b825-418c-8809-957060623fc4",
   "metadata": {},
   "source": [
    "### Selecting specific platforms\n",
    "\n",
    "Landsat Collection 2 Level-2 includes assets from several different Platforms."
   ]
  },
  {
   "cell_type": "code",
   "execution_count": null,
   "id": "99da3fb2-12ec-47bc-94d8-99eb24298de5",
   "metadata": {},
   "outputs": [],
   "source": [
    "catalog.get_collection(\"landsat-c2-l2\").summaries.to_dict()[\"platform\"]"
   ]
  },
  {
   "cell_type": "code",
   "execution_count": null,
   "id": "b72663b7-2a5c-44fc-bca2-2c9dff6432f4",
   "metadata": {},
   "outputs": [],
   "source": [
    "search = catalog.search(\n",
    "    collections=[\"landsat-c2-l2\"],\n",
    "    bbox=bbox_of_interest,\n",
    "    datetime=time_of_interest,\n",
    "    query={\n",
    "        \"eo:cloud_cover\": {\"lt\": 10},\n",
    "        \"platform\": {\"in\": [\"landsat-8\", \"landsat-9\"]},\n",
    "    },\n",
    ")\n",
    "items = search.get_all_items()"
   ]
  },
  {
   "cell_type": "markdown",
   "id": "a0194e73-dc5e-479e-9940-886f185b9918",
   "metadata": {
    "tags": []
   },
   "source": [
    "### Rescaling Temperature Data\n",
    "\n",
    "Landsat Collection 2 Level 2 includes measures of [Surface Temperature](https://www.usgs.gov/landsat-missions/landsat-surface-temperature). We'll look at the surface temperature band `TIRS_B10` under the key `lwir11`. The raw values are rescaled, so you should scale and offset the data before interpreting it. Use the metadata in the asset's `raster_bands` to find the scale and offset values:"
   ]
  },
  {
   "cell_type": "code",
   "execution_count": null,
   "id": "41612f1d-83b3-443c-b39b-9f91855752e7",
   "metadata": {},
   "outputs": [],
   "source": [
    "band_info = selected_item.assets[\"lwir11\"].extra_fields[\"raster:bands\"][0]\n",
    "band_info"
   ]
  },
  {
   "cell_type": "markdown",
   "id": "074980a4-b887-43ef-9e7c-ea45585d4aa9",
   "metadata": {},
   "source": [
    "To go from the raw values to Kelvin, we apply those values:"
   ]
  },
  {
   "cell_type": "code",
   "execution_count": null,
   "id": "b8d2100a-e208-4fff-861b-9da9ea7341af",
   "metadata": {},
   "outputs": [],
   "source": [
    "temperature = data[\"lwir11\"].astype(float)\n",
    "temperature *= band_info[\"scale\"]\n",
    "temperature += band_info[\"offset\"]\n",
    "temperature[:5, :5]"
   ]
  },
  {
   "cell_type": "markdown",
   "id": "4a48a225-ce61-43e2-b59d-e2f4fea62038",
   "metadata": {},
   "source": [
    "To convert from Kelvin to degrees, subtract 273.15."
   ]
  },
  {
   "cell_type": "code",
   "execution_count": null,
   "id": "967d43f6-1e76-4822-813e-8bbcfd7639be",
   "metadata": {},
   "outputs": [],
   "source": [
    "celsius = temperature - 273.15\n",
    "celsius.plot(cmap=\"magma\", size=10);"
   ]
  },
  {
   "cell_type": "markdown",
   "id": "1fa0b57e",
   "metadata": {},
   "source": [
    "### Landsat Collection 2 Level-1 Data\n",
    "\n",
    "Thus far we have worked with Landsat Collection 2 Level-2 data, which is processed to a consistent set of surface reflectance and surface temperature [science products](https://www.usgs.gov/landsat-missions/landsat-science-products). \n",
    "\n",
    "The Planetary Computer also hosts Collection 2 Level-1 data (top of atmosphere values) acquired by the [Multispectral Scanner System](https://landsat.gsfc.nasa.gov/multispectral-scanner-system/) (MSS) onboard Landsat 1 through 5. These data do not include a blue band, so a natural color image is not possible. We will plot a color infrared image from the nir08, red, and green bands instead.\n",
    "\n",
    "As before, we use pystac-client to search over the `landsat-c2-l1` collection. We'll use the same area of interest and return only those with less than 10% cloud cover."
   ]
  },
  {
   "cell_type": "code",
   "execution_count": null,
   "id": "92dda3e7-1c54-4774-9007-331cef36b9fd",
   "metadata": {
    "tags": []
   },
   "outputs": [],
   "source": []
  },
  {
   "cell_type": "code",
   "execution_count": null,
   "id": "5235cd43",
   "metadata": {},
   "outputs": [],
   "source": [
    "search = catalog.search(\n",
    "    collections=[\"landsat-c2-l1\"],\n",
    "    bbox=bbox,\n",
    "    query={\"eo:cloud_cover\": {\"lt\": 10}},\n",
    ")\n",
    "\n",
    "items = search.item_collection()\n",
    "print(f\"Returned {len(items)} Items\")\n",
    "item = items[0]\n",
    "for item in items:\n",
    "    date = item.properties[\"datetime\"]\n",
    "    print(date)"
   ]
  },
  {
   "cell_type": "markdown",
   "id": "fc09a11a",
   "metadata": {},
   "source": [
    "Choose the least cloudy Item."
   ]
  },
  {
   "cell_type": "code",
   "execution_count": null,
   "id": "c2995560",
   "metadata": {},
   "outputs": [],
   "source": [
    "selected_item = min(items, key=lambda item: eo.ext(item).cloud_cover)\n",
    "\n",
    "print(\n",
    "    f\"Choosing {selected_item.id} from {selected_item.datetime.date()}\"\n",
    "    + f\" with {selected_item.properties['eo:cloud_cover']}% cloud cover\"\n",
    ")"
   ]
  },
  {
   "cell_type": "markdown",
   "id": "2d9504fd",
   "metadata": {},
   "source": [
    "### Available assets\n",
    "\n",
    "MSS data has four EO bands assets and a number of metadata files and bands."
   ]
  },
  {
   "cell_type": "code",
   "execution_count": null,
   "id": "0df4d6a1",
   "metadata": {},
   "outputs": [],
   "source": [
    "max_key_length = len(max(selected_item.assets, key=len))\n",
    "for key, asset in selected_item.assets.items():\n",
    "    print(f\"{key.rjust(max_key_length)}: {asset.title}\")"
   ]
  },
  {
   "cell_type": "markdown",
   "id": "9a67ee1a",
   "metadata": {},
   "source": [
    "We'll use `odc-stac` to load only the EO bands and area we are interested in."
   ]
  },
  {
   "cell_type": "code",
   "execution_count": null,
   "id": "1eae9e4d",
   "metadata": {
    "tags": []
   },
   "outputs": [],
   "source": [
    "bands_of_interest = [\"nir08\", \"red\", \"green\"]\n",
    "data = odc.stac.stac_load(\n",
    "    [selected_item], bands=bands_of_interest, bbox=bbox\n",
    ").isel(time=0)\n",
    "\n",
    "cir = data.to_array()\n",
    "\n",
    "fig, ax = plt.subplots(figsize=(10, 10))\n",
    "cir.plot.imshow(robust=True, ax=ax)\n",
    "ax.set_title(\"Color Infrared, Redmond, WA\");"
   ]
  },
  {
   "cell_type": "code",
   "execution_count": null,
   "id": "8a3fb78a-fe54-420e-9711-94c1420c012b",
   "metadata": {
    "tags": []
   },
   "outputs": [],
   "source": [
    "cir"
   ]
  },
  {
   "cell_type": "code",
   "execution_count": null,
   "id": "a1ca02a4-5a42-4751-bf0f-61f5e2b07352",
   "metadata": {},
   "outputs": [],
   "source": []
  },
  {
   "cell_type": "code",
   "execution_count": null,
   "id": "a4567d8f-f617-4653-bb7c-0737adeb3e01",
   "metadata": {},
   "outputs": [],
   "source": []
  }
 ],
 "metadata": {
  "interpreter": {
   "hash": "ed3fd30edefd633ef3d52b49fba6f05dba1d7f4cc29f008d827ab52268d3b96c"
  },
  "kernelspec": {
   "display_name": "Python 3 (ipykernel)",
   "language": "python",
   "name": "python3"
  },
  "language_info": {
   "codemirror_mode": {
    "name": "ipython",
    "version": 3
   },
   "file_extension": ".py",
   "mimetype": "text/x-python",
   "name": "python",
   "nbconvert_exporter": "python",
   "pygments_lexer": "ipython3",
   "version": "3.10.10"
  },
  "widgets": {
   "application/vnd.jupyter.widget-state+json": {
    "state": {},
    "version_major": 2,
    "version_minor": 0
   }
  }
 },
 "nbformat": 4,
 "nbformat_minor": 5
}
